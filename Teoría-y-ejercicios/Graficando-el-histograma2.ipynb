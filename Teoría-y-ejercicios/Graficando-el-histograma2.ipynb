{
 "cells": [
  {
   "cell_type": "markdown",
   "metadata": {},
   "source": [
    "# Graficando el histograma de masa invariante"
   ]
  },
  {
   "cell_type": "markdown",
   "metadata": {},
   "source": [
    "En este ejercicio graficaremos el histograma de masa invariante con Python. Usaremos los datos recolectados por el detector CMS en 2011 [1]. Eventos con criterios específicos [2] han sido seleccionados en el archivo CSV _Ymumu_\\__Run2011A.csv_ el cual estamos utilizando. \n",
    "\n",
    "Exploremos las diferentes casillas de código abajo y ejecutemos el código. Notemos que normalmente el código no tendría tantos comentarios, la razón de los comentarios es para explicar brevemente que sucede con el código. \n",
    "\n",
    "<br>\n",
    "<br>\n",
    "<br>\n",
    "[1]  CMS collaboration (2016). DoubleMu primary dataset in AOD format from RunA of 2011 (/DoubleMu/Run2011A-12Oct2013-v1/AOD). CERN Open Data Portal. DOI: [10.7483/OPENDATA.CMS.RZ34.QR6N](http://doi.org/10.7483/OPENDATA.CMS.RZ34.QR6N).\n",
    "<br>\n",
    "[2] Thomas McCauley (2016). Ymumu. Jupyter Notebook file. https://github.com/tpmccauley/cmsopendata-jupyter/blob/hst-0.1/Ymumu.ipynb."
   ]
  },
  {
   "cell_type": "markdown",
   "metadata": {},
   "source": [
    "### 1) Empecemos"
   ]
  },
  {
   "cell_type": "code",
   "execution_count": 1,
   "metadata": {
    "collapsed": true
   },
   "outputs": [],
   "source": [
    "# Importar los módulos necesarios. Pandas is para el análisis de datos \n",
    "# y matplotlib.pyplot para graficar. A los módulos se les da el nombre de \"pd\" y \"plt\"\n",
    "import pandas as pd\n",
    "import matplotlib.pyplot as plt\n",
    "\n",
    "# El Notebook Jupyter utiliza \"funciones mágicas\". Con esta función es posible graficar\n",
    "# el histograma directamente en el cuaderno (Notebook)\n",
    "% matplotlib inline"
   ]
  },
  {
   "cell_type": "markdown",
   "metadata": {},
   "source": [
    "### 2) Obteniendo los datos"
   ]
  },
  {
   "cell_type": "code",
   "execution_count": 2,
   "metadata": {
    "collapsed": true
   },
   "outputs": [],
   "source": [
    "# Crear un nuevo marco de datos desde el archivo \"Ymumu_Run2011A.csv\"\n",
    "dataset = pd.read_csv('Datos/Ymumu_Run2011A.csv')\n",
    "\n",
    "# Crear un estructura de serie (básicamente una lista) y nombrarla \"masa_invariante\".\n",
    "# Salvar la columna \"M\" desde la variable \"dataset\" hacia la variable \"masa_invariante\".\n",
    "masa_invariante = dataset['M']"
   ]
  },
  {
   "cell_type": "markdown",
   "metadata": {},
   "source": [
    "### 3) Graficando el histograma"
   ]
  },
  {
   "cell_type": "markdown",
   "metadata": {},
   "source": [
    "Ahora podemos graficar el histograma de los valores de masa invariante que obtuvimos. El histograma muestra que en muchos eventos la masa invariante del par de muones fue creada en un cierto rango de valores. Notar que utilizaremos un total de 500 casillas (bins) en el histograma, así que no las veremos porque hay demasiadas."
   ]
  },
  {
   "cell_type": "code",
   "execution_count": 3,
   "metadata": {},
   "outputs": [
    {
     "data": {
      "image/png": "[encoded data removed]",
      "text/plain": [
       "<matplotlib.figure.Figure at 0x9dcd080>"
      ]
     },
     "metadata": {},
     "output_type": "display_data"
    }
   ],
   "source": [
    "# Graficar el histograma con la función hist() del módulo matplotlib.pyplot:\n",
    "# (http://matplotlib.org/api/pyplot_api.html?highlight=matplotlib.pyplot.hist#matplotlib.pyplot.hist).\n",
    "# 'Bins' determina el número de casillas utilizadas\n",
    "plt.hist(masa_invariante, bins=500)\n",
    "\n",
    "# Nombrar los ejes y darles un título\n",
    "plt.xlabel('Masa Invariante [GeV]')\n",
    "plt.ylabel('Numero de Eventos')\n",
    "plt.title('El histograma de la masa invariante de dos muones \\n') # \\n crea una línea para hacer que el título se vea mejor\n",
    "\n",
    "# Mostrar el histograma\n",
    "plt.show()"
   ]
  },
  {
   "cell_type": "markdown",
   "metadata": {},
   "source": [
    "### 4) Análisis"
   ]
  },
  {
   "cell_type": "markdown",
   "metadata": {},
   "source": [
    "- ¿Qué nos dice el histograma?\n",
    "- ¿Qué sucede con la masa alrededor de 9.5 GeV?"
   ]
  }
 ],
 "metadata": {
  "kernelspec": {
   "display_name": "Python 2",
   "language": "python",
   "name": "python2"
  },
  "language_info": {
   "codemirror_mode": {
    "name": "ipython",
    "version": 2
   },
   "file_extension": ".py",
   "mimetype": "text/x-python",
   "name": "python",
   "nbconvert_exporter": "python",
   "pygments_lexer": "ipython2",
   "version": "2.7.13"
  }
 },
 "nbformat": 4,
 "nbformat_minor": 1
}
