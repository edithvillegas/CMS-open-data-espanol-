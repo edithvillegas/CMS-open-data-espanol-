{
 "cells": [
  {
   "cell_type": "markdown",
   "metadata": {},
   "source": [
    "# Bases de la programación en Python"
   ]
  },
  {
   "cell_type": "markdown",
   "metadata": {},
   "source": [
    "En este cuaderno nos familiarizaremos con las bases de la programación en Python y veremos algunos ejemplos. Ya que la programación se aprende más fácilmente haciéndola, es recomendable leer este cuaderno con Jupyter Notebook (http://jupyter.org/). En Jupyter los ejemplos del cuaderno pueden ser ejecutados y modificados interactivamente. También puede añadirse nuestras propias notas y código.\n",
    "\n",
    "Si no ha instalado Jupyter, también puede abrir la versión de prueba gratuita en https://try.jupyter.org/."
   ]
  },
  {
   "cell_type": "markdown",
   "metadata": {},
   "source": [
    "## Python – ¿qué es?"
   ]
  },
  {
   "cell_type": "markdown",
   "metadata": {},
   "source": [
    "Python es un lenguaje de programación del cual la versión más reciente es Python 3, publicada en 2008. Python es bastatnte fácil de aprender ya que la sintaxis que utiliza es relativamente simple. Sin embargo Python es capaz también para programación compleja. \n",
    "\n",
    "En este cuaderno se introduce las bases de Python y algunos ejemplos. El punto es ofrecer una visión compacta de las cosas más comunes que pueden hacerse en Python en el sentido de utilizarlo con los datos de acceso libre de CMS. Este cuaderno no hablará de todas las características de Python. La documentación oficial de Python está disponible en:https://docs.python.org/3/."
   ]
  },
  {
   "cell_type": "markdown",
   "metadata": {},
   "source": [
    "## ¡Hola mundo!"
   ]
  },
  {
   "cell_type": "markdown",
   "metadata": {},
   "source": [
    "Empezaremos con el ejemplo tradicional \"Hola mundo\". Imprimir en Python es posible con la función _print( )_ function. La función toma un objeto imprimible (por ejemplo un número o una cadena de caracteres) como argumento dentro de los paréntesis.\n",
    "\n",
    "Intente ejecutar el código abajo dando clic sobre él y luego presionando _Ctrl_ + _Enter_."
   ]
  },
  {
   "cell_type": "code",
   "execution_count": 2,
   "metadata": {},
   "outputs": [
    {
     "name": "stdout",
     "output_type": "stream",
     "text": [
      "¡Hola mundo!\n"
     ]
    }
   ],
   "source": [
    "print('¡Hola mundo!')"
   ]
  },
  {
   "cell_type": "markdown",
   "metadata": {},
   "source": [
    "Podemos intentar escribir abajo un programa que muestre nuestro nombre. Intente ejecutar el código luego de escribir. "
   ]
  },
  {
   "cell_type": "code",
   "execution_count": null,
   "metadata": {
    "collapsed": true
   },
   "outputs": [],
   "source": [
    "# Estas líneas separadas por el símbolo # son comentarios. No afectarán el código. \n",
    "# Escriba un programa que muestre su nombre. \n"
   ]
  },
  {
   "cell_type": "markdown",
   "metadata": {},
   "source": [
    "## Variables en Python"
   ]
  },
  {
   "cell_type": "markdown",
   "metadata": {},
   "source": [
    "En programación podemos guardar valores que queramos utilizar luego en las __variables__. Diferentes tipos de variables son por ejemplo los enteros (int), los números de punto flotante o decimales (float) y las cadenas de caracteres (string). \n",
    "\n",
    "En Python es fácil crear variables ya que el usuario no necesita indicar el tipo de variable. Solo el nombre de la variable y el valor son necesarios. Por ejemplo creemos una variable llamada _particulas_ y guardemos el número 2700 en ella. "
   ]
  },
  {
   "cell_type": "code",
   "execution_count": 2,
   "metadata": {
    "collapsed": true
   },
   "outputs": [],
   "source": [
    "particulas = 2700"
   ]
  },
  {
   "cell_type": "markdown",
   "metadata": {},
   "source": [
    "Después de hacer esto podemos utilizar la variable, por ejemplo, imprimiendo el valor que guardamos en ella. Notar que ahora no hay comillas dentro de los paréntensis de la función _print()_. Las comillas se utilizan para las cadenas de caracteres pero ahora queremos imprimir una variable así que no las utilizaremos. Por supuesto que podemos modificar el código y ver que sucede si se añaden. "
   ]
  },
  {
   "cell_type": "code",
   "execution_count": 3,
   "metadata": {},
   "outputs": [
    {
     "name": "stdout",
     "output_type": "stream",
     "text": [
      "2700\n"
     ]
    }
   ],
   "source": [
    "print(particulas)"
   ]
  },
  {
   "cell_type": "markdown",
   "metadata": {},
   "source": [
    "Guardar una cadena de caracteres en una variable se hace de forma similar. Creemos una variable llamada _bienvenida_ y guardemos la cadena de caracteres \"Bienvenidos a Python. No se preocupen, no muerde!.\" Imprimamos esa variable. "
   ]
  },
  {
   "cell_type": "code",
   "execution_count": 3,
   "metadata": {},
   "outputs": [
    {
     "name": "stdout",
     "output_type": "stream",
     "text": [
      "Bienvenidos a Python. No se preocupen, no muerde!\n"
     ]
    }
   ],
   "source": [
    "bienvenida = \"Bienvenidos a Python. No se preocupen, ¡no muerde!\"\n",
    "print(bienvenida)"
   ]
  },
  {
   "cell_type": "markdown",
   "metadata": {},
   "source": [
    "## Calculando con Python"
   ]
  },
  {
   "cell_type": "markdown",
   "metadata": {},
   "source": [
    "Con Python es posible hacer muchos tipos de cálculos distintos. El cálculo más simple funciona escribiendo escribiendo la ecuación en el código y luego ejecutándolo. El código entonces nos dará el resultado del cálculo. "
   ]
  },
  {
   "cell_type": "code",
   "execution_count": 7,
   "metadata": {},
   "outputs": [
    {
     "name": "stdout",
     "output_type": "stream",
     "text": [
      "8\n",
      "-2\n",
      "15\n",
      "1.4\n"
     ]
    }
   ],
   "source": [
    "print(3 + 5)\n",
    "print(3 - 5)\n",
    "print(3 * 5)\n",
    "\n",
    "#En Python 2 el resultado de la división está siempre dada como un entero. Python 3 también puede devolver un valor decimal.\n",
    "# En Python 2 esto puede arreglarse escribiendo \"from __future__ import division\" en la casilla del código antes del cálculo. \n",
    "\n",
    "print(7 / 5)\n"
   ]
  },
  {
   "cell_type": "markdown",
   "metadata": {},
   "source": [
    "Para cálculos más complejos variables y listas pueden ser utilizadas. Además de las operaciones básicas hay muchas funciones matemáticas y comandos disponibles utilizando __módulos__. El uso de los módulos se explica en la sección de _Módulos_ abajo. "
   ]
  },
  {
   "cell_type": "markdown",
   "metadata": {},
   "source": [
    "## Funciones"
   ]
  },
  {
   "cell_type": "markdown",
   "metadata": {},
   "source": [
    "Con __funciones__ es posible realizar acciones más complejas que, por ejemplo, mostrar o calcular un simple valor. La función es un subprograma que será llamado en el programa principal cuando la requiramos. En resumen la función es un pedazo de código que realizará la acción que fue escrita para realizar. \n",
    "\n",
    "Por ejemplo abajo llamaremos a la función _abs( )_ de Python que devuelve el valor absoluto de un número (o de una variable). El valor que se le pasa a una función se llama __argumento__. "
   ]
  },
  {
   "cell_type": "code",
   "execution_count": 6,
   "metadata": {},
   "outputs": [
    {
     "data": {
      "text/plain": [
       "2"
      ]
     },
     "execution_count": 6,
     "metadata": {},
     "output_type": "execute_result"
    }
   ],
   "source": [
    "abs(-2)"
   ]
  },
  {
   "cell_type": "markdown",
   "metadata": {},
   "source": [
    "La función _abs( )_ es un ejemplo de una función que está incorporada en Python. Funciones incorparadas siempre están disponibles en Python. La lista de las funciones incorporadas en Python puede ser encontrada en https://docs.python.org/3/library/functions.html.\n",
    "\n",
    "También es posible definir funciones. Con Python 3 esto puede hacerse con el comando _def_. Por ejemplo, podemos definir una función que calcule la raíz cuadrada de un argumento y luego mostrarla en un texto corto. Llamemos a nuestra función _cuadrado_."
   ]
  },
  {
   "cell_type": "code",
   "execution_count": 8,
   "metadata": {
    "collapsed": true
   },
   "outputs": [],
   "source": [
    "def cuadrado(a):\n",
    "    print(a*a)\n",
    "    print(\"¡Acaba de utilizar la función!\")"
   ]
  },
  {
   "cell_type": "markdown",
   "metadata": {},
   "source": [
    "Ahora podemos utilizar la función que acabamos de crear llamándola con su nombre y dándole un argumento. "
   ]
  },
  {
   "cell_type": "code",
   "execution_count": 9,
   "metadata": {},
   "outputs": [
    {
     "name": "stdout",
     "output_type": "stream",
     "text": [
      "16\n",
      "¡Acaba de utilizar la función!\n"
     ]
    }
   ],
   "source": [
    "cuadrado(4)"
   ]
  },
  {
   "cell_type": "markdown",
   "metadata": {},
   "source": [
    "## Módulos"
   ]
  },
  {
   "cell_type": "markdown",
   "metadata": {},
   "source": [
    "Hay muchos tipos de funciones diferentes que ya están hechas para própositos diferentes. En muchas ocasiones las funciones incorporadas no son suficientes, así que más funciones pueden ser añadidas con __módulos__. Los módulos son prácticamente archivos de código que incluyen funciones. \n",
    "\n",
    "Los módulos pueden ser importados utilizando el comando _import_. Por ejemplo podemos importar el módulo _math_ y utilizar la función _sqrt( )_ de ese módulo. Cuando llamamos a la función _sqrt( )_ tenemos que especificar que la estamos llamando desde el módulo _math_. Esto se hace escribiendo el nombre del módulo separado por un punto antes del nombre de la función."
   ]
  },
  {
   "cell_type": "code",
   "execution_count": 9,
   "metadata": {},
   "outputs": [
    {
     "data": {
      "text/plain": [
       "3.0"
      ]
     },
     "execution_count": 9,
     "metadata": {},
     "output_type": "execute_result"
    }
   ],
   "source": [
    "import math\n",
    "\n",
    "math.sqrt(9)"
   ]
  },
  {
   "cell_type": "markdown",
   "metadata": {},
   "source": [
    "¿Cómo es posible entonces saber cuáles módulos existen? Una lista de los módulos de Python puede ser encontrada en https://docs.python.org/3/py-modindex.html. También muchos __paquetes__ pueden ser utilizados con Python. Los paquetes incluyen módulos de Python. Una lista de los diferentes paquetes de Python puede ser encontrada en https://pypi.python.org/pypi.\n",
    "\n",
    "Buscar en la web también es útil cuando queremos darnos cuenta de qué modulos y paquetes existen. Con un par de términos de búsqueda es posible encontrar un módulo o un paquete que pueda hacer lo que necesitemos. "
   ]
  }
 ],
 "metadata": {
  "kernelspec": {
   "display_name": "Python 2",
   "language": "python",
   "name": "python2"
  },
  "language_info": {
   "codemirror_mode": {
    "name": "ipython",
    "version": 2
   },
   "file_extension": ".py",
   "mimetype": "text/x-python",
   "name": "python",
   "nbconvert_exporter": "python",
   "pygments_lexer": "ipython2",
   "version": "2.7.13"
  }
 },
 "nbformat": 4,
 "nbformat_minor": 1
}
