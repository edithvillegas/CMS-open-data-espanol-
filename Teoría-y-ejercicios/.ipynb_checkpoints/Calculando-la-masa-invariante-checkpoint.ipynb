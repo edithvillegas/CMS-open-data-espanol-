{
 "cells": [
  {
   "cell_type": "markdown",
   "metadata": {},
   "source": [
    "# Calculando la masa invariante"
   ]
  },
  {
   "cell_type": "markdown",
   "metadata": {},
   "source": [
    "En este ejemplo aprenderemos a calcular la __masa invariante__ con los datos de libre acceso de CMS. La masa invariante es un concepto importante para la física de partículas porque sirve para encontrar nuevas partículas. \n",
    "\n",
    "Los siguientes archivos CSV incluyen valores calculados para la masa inviariante:\n",
    "\n",
    "    - dielectron.csv\n",
    "    - DoubleMuRun2011A.csv\n",
    "    - Jpsimumu_Run2011A.csv\n",
    "    - Ymumu_Run2011A.csv\n",
    "    \n",
    "\n",
    "Por ejemplo con los archivos _Zmumu_\\__Run2011A.csv_ y _Zee_\\__Run2011A.csv_ es fácil calcular los valores de la masa invariante. Empecemos el cálculo importando los módulos de Python necesarios y obteniendo los datos. En este ejemplo utilizaremos el archivo _Zmumu_\\__Run2011A.csv_ que incluye datos de eventos de colisión de la base de datos primaria [1] con criterios de selección específicos [2].\n",
    "\n",
    "<br>\n",
    "<br>\n",
    "<br>\n",
    "[1]  CMS collaboration (2016). DoubleMu primary dataset in AOD format from RunA of 2011 (/DoubleMu/Run2011A-12Oct2013-v1/AOD). CERN Open Data Portal. DOI: [10.7483/OPENDATA.CMS.RZ34.QR6N](http://doi.org/10.7483/OPENDATA.CMS.RZ34.QR6N).\n",
    "<br>\n",
    "[2] Thomas McCauley (2016). Zmumu. Jupyter Notebook file. https://github.com/tpmccauley/cmsopendata-jupyter/blob/hst-0.1/Zmumu.ipynb."
   ]
  },
  {
   "cell_type": "markdown",
   "metadata": {},
   "source": [
    "### Obteniendo los datos"
   ]
  },
  {
   "cell_type": "code",
   "execution_count": 1,
   "metadata": {
    "collapsed": true
   },
   "outputs": [],
   "source": [
    "# Importar los módulos necesarios. Pandas es para el análisis de datos y numpy para cálculos científicos.\n",
    "# Nombrar estas \"pd\" y \"np\".\n",
    "import pandas as pd\n",
    "import numpy as np\n",
    "\n",
    "# Crear un nuevo marco de datos desde el archivo \"Zmumu_Run2011A.csv\". Nombrarlo \"dataset\".\n",
    "dataset = pd.read_csv('Datos/Zmumu_Run2011A.csv')"
   ]
  },
  {
   "cell_type": "markdown",
   "metadata": {},
   "source": [
    "Podemos revisar el contenido que salvamos en la variable _dataset_ imprimiendo las primeras 4 líneas con el código siguiente:"
   ]
  },
  {
   "cell_type": "code",
   "execution_count": 2,
   "metadata": {
    "scrolled": true
   },
   "outputs": [
    {
     "data": {
      "text/html": [
       "<div>\n",
       "<style>\n",
       "    .dataframe thead tr:only-child th {\n",
       "        text-align: right;\n",
       "    }\n",
       "\n",
       "    .dataframe thead th {\n",
       "        text-align: left;\n",
       "    }\n",
       "\n",
       "    .dataframe tbody tr th {\n",
       "        vertical-align: top;\n",
       "    }\n",
       "</style>\n",
       "<table border=\"1\" class=\"dataframe\">\n",
       "  <thead>\n",
       "    <tr style=\"text-align: right;\">\n",
       "      <th></th>\n",
       "      <th>Run</th>\n",
       "      <th>Event</th>\n",
       "      <th>pt1</th>\n",
       "      <th>eta1</th>\n",
       "      <th>phi1</th>\n",
       "      <th>Q1</th>\n",
       "      <th>dxy1</th>\n",
       "      <th>iso1</th>\n",
       "      <th>pt2</th>\n",
       "      <th>eta2</th>\n",
       "      <th>phi2</th>\n",
       "      <th>Q2</th>\n",
       "      <th>dxy2</th>\n",
       "      <th>iso2</th>\n",
       "    </tr>\n",
       "  </thead>\n",
       "  <tbody>\n",
       "    <tr>\n",
       "      <th>0</th>\n",
       "      <td>165617</td>\n",
       "      <td>74969122</td>\n",
       "      <td>54.7055</td>\n",
       "      <td>-0.432396</td>\n",
       "      <td>2.574210</td>\n",
       "      <td>1</td>\n",
       "      <td>-0.074544</td>\n",
       "      <td>0.499921</td>\n",
       "      <td>34.2464</td>\n",
       "      <td>-0.988480</td>\n",
       "      <td>-0.498704</td>\n",
       "      <td>-1</td>\n",
       "      <td>0.071222</td>\n",
       "      <td>3.42214</td>\n",
       "    </tr>\n",
       "    <tr>\n",
       "      <th>1</th>\n",
       "      <td>165617</td>\n",
       "      <td>75138253</td>\n",
       "      <td>24.5872</td>\n",
       "      <td>-2.052200</td>\n",
       "      <td>2.866570</td>\n",
       "      <td>-1</td>\n",
       "      <td>-0.055437</td>\n",
       "      <td>0.000000</td>\n",
       "      <td>28.5389</td>\n",
       "      <td>0.385163</td>\n",
       "      <td>-1.991170</td>\n",
       "      <td>1</td>\n",
       "      <td>0.051477</td>\n",
       "      <td>0.00000</td>\n",
       "    </tr>\n",
       "    <tr>\n",
       "      <th>2</th>\n",
       "      <td>165617</td>\n",
       "      <td>75887636</td>\n",
       "      <td>31.7386</td>\n",
       "      <td>-2.259450</td>\n",
       "      <td>-1.332290</td>\n",
       "      <td>-1</td>\n",
       "      <td>0.087917</td>\n",
       "      <td>0.000000</td>\n",
       "      <td>30.2344</td>\n",
       "      <td>-0.468419</td>\n",
       "      <td>1.883310</td>\n",
       "      <td>1</td>\n",
       "      <td>-0.087639</td>\n",
       "      <td>0.00000</td>\n",
       "    </tr>\n",
       "    <tr>\n",
       "      <th>3</th>\n",
       "      <td>165617</td>\n",
       "      <td>75779415</td>\n",
       "      <td>39.7394</td>\n",
       "      <td>-0.712338</td>\n",
       "      <td>-0.312266</td>\n",
       "      <td>1</td>\n",
       "      <td>0.058481</td>\n",
       "      <td>0.000000</td>\n",
       "      <td>48.2790</td>\n",
       "      <td>-0.195625</td>\n",
       "      <td>2.970320</td>\n",
       "      <td>-1</td>\n",
       "      <td>-0.049201</td>\n",
       "      <td>0.00000</td>\n",
       "    </tr>\n",
       "    <tr>\n",
       "      <th>4</th>\n",
       "      <td>165617</td>\n",
       "      <td>75098104</td>\n",
       "      <td>41.2998</td>\n",
       "      <td>-0.157055</td>\n",
       "      <td>-3.040770</td>\n",
       "      <td>1</td>\n",
       "      <td>-0.030463</td>\n",
       "      <td>1.228040</td>\n",
       "      <td>43.4508</td>\n",
       "      <td>0.590958</td>\n",
       "      <td>-0.042756</td>\n",
       "      <td>-1</td>\n",
       "      <td>0.044175</td>\n",
       "      <td>0.00000</td>\n",
       "    </tr>\n",
       "  </tbody>\n",
       "</table>\n",
       "</div>"
      ],
      "text/plain": [
       "      Run     Event      pt1      eta1      phi1  Q1      dxy1      iso1  \\\n",
       "0  165617  74969122  54.7055 -0.432396  2.574210   1 -0.074544  0.499921   \n",
       "1  165617  75138253  24.5872 -2.052200  2.866570  -1 -0.055437  0.000000   \n",
       "2  165617  75887636  31.7386 -2.259450 -1.332290  -1  0.087917  0.000000   \n",
       "3  165617  75779415  39.7394 -0.712338 -0.312266   1  0.058481  0.000000   \n",
       "4  165617  75098104  41.2998 -0.157055 -3.040770   1 -0.030463  1.228040   \n",
       "\n",
       "       pt2      eta2      phi2  Q2      dxy2     iso2  \n",
       "0  34.2464 -0.988480 -0.498704  -1  0.071222  3.42214  \n",
       "1  28.5389  0.385163 -1.991170   1  0.051477  0.00000  \n",
       "2  30.2344 -0.468419  1.883310   1 -0.087639  0.00000  \n",
       "3  48.2790 -0.195625  2.970320  -1 -0.049201  0.00000  \n",
       "4  43.4508  0.590958 -0.042756  -1  0.044175  0.00000  "
      ]
     },
     "execution_count": 2,
     "metadata": {},
     "output_type": "execute_result"
    }
   ],
   "source": [
    "dataset.head()"
   ]
  },
  {
   "cell_type": "markdown",
   "metadata": {},
   "source": [
    "### Realizando el cálculo"
   ]
  },
  {
   "cell_type": "markdown",
   "metadata": {},
   "source": [
    "Utilizaremos la siguiente expresión para el cálculo de la masa invariante $M$:\n",
    "\n",
    "$$M = \\sqrt{2p_{T1}p_{T2}(\\cosh(\\eta_1-\\eta_2)-\\cos(\\phi_1-\\phi_2))}.$$\n",
    "\n",
    "En la expresión $p_T$ es la componente del momento que es perpendicular al eje del haz, $\\eta$ es la pseudo-rapidez (ángulo) y $\\phi$ es el ángulo azimutal. \n",
    "\n",
    "En el cálculo abajo utilizaremos el módulo _numpy_ que fue nombrado como _np_ en la primer casilla del código. Con _numpy_ es posible utilizar comandos matemáticos como _sqrt_ y _cosh_ llamando el primer módulo (_np_) y luego el comando separado por un punto. Por ejemplo la raiz cuadrada puede ser llamada escribiendo _np.sqrt( )_.\n",
    "\n",
    "_pt1_, _pt2_, _eta1_, _eta2_, _phi1_ y _phi2_ se refieren a las columnas de datos. En el código tiene que especificarse de donde se obtendrán estos nombres. Asi que por ejemplo, si queremos obtener la columna _pt1_, hay que escribir _dataset.pt1_ en el código. \n",
    "\n",
    "Ahora estamos listos para calcular los valores de la masa invariante para distintos eventos. _Numpy_ calculará automáticamente los valores para todos los eventos cuando le pasamos el cálculo de la siguiente forma. Así que la ecuación dada es calculada para todas las líneas. "
   ]
  },
  {
   "cell_type": "code",
   "execution_count": 3,
   "metadata": {
    "collapsed": true
   },
   "outputs": [],
   "source": [
    "masa_invariante = np.sqrt(2*dataset.pt1*dataset.pt2*(np.cosh(dataset.eta1-dataset.eta2) - np.cos(dataset.phi1-dataset.phi2)))"
   ]
  },
  {
   "cell_type": "markdown",
   "metadata": {},
   "source": [
    "Después del cálculo podemos revisar que valores fueron salvados en la variable _masa_\\__invariante_ imprimiendo el contenido de la variable:"
   ]
  },
  {
   "cell_type": "code",
   "execution_count": 4,
   "metadata": {},
   "outputs": [
    {
     "name": "stdout",
     "output_type": "stream",
     "text": [
      "0         89.885744\n",
      "1         88.810987\n",
      "2         88.472502\n",
      "3         90.332620\n",
      "4         90.514507\n",
      "5         78.860094\n",
      "6         92.362439\n",
      "7         63.757254\n",
      "8         93.118647\n",
      "9         92.941701\n",
      "10        88.896587\n",
      "11        85.363437\n",
      "12        87.934228\n",
      "13        90.414225\n",
      "14        65.034823\n",
      "15        89.348601\n",
      "16        91.297563\n",
      "17        92.258489\n",
      "18        92.493002\n",
      "19        68.358712\n",
      "20        92.112023\n",
      "21        91.171556\n",
      "22        85.909734\n",
      "23        91.645777\n",
      "24        88.392430\n",
      "25        91.760237\n",
      "26        91.179805\n",
      "27        91.785881\n",
      "28        91.349970\n",
      "29        99.112667\n",
      "            ...    \n",
      "10553     91.027596\n",
      "10554     93.261764\n",
      "10555     76.810535\n",
      "10556     80.206206\n",
      "10557     89.126026\n",
      "10558     96.116627\n",
      "10559     89.928690\n",
      "10560     87.901985\n",
      "10561     90.919888\n",
      "10562     90.767179\n",
      "10563     63.837491\n",
      "10564     76.605770\n",
      "10565     67.312657\n",
      "10566     89.984530\n",
      "10567     94.494826\n",
      "10568     89.234208\n",
      "10569     91.644511\n",
      "10570     67.081134\n",
      "10571     91.920312\n",
      "10572     64.272065\n",
      "10573     87.095179\n",
      "10574     90.373603\n",
      "10575    117.853840\n",
      "10576     84.385922\n",
      "10577     90.999327\n",
      "10578     90.610799\n",
      "10579     89.744873\n",
      "10580     90.714366\n",
      "10581     91.945212\n",
      "10582     87.838121\n",
      "dtype: float64\n"
     ]
    }
   ],
   "source": [
    "print(masa_invariante)"
   ]
  }
 ],
 "metadata": {
  "kernelspec": {
   "display_name": "Python 2",
   "language": "python",
   "name": "python2"
  },
  "language_info": {
   "codemirror_mode": {
    "name": "ipython",
    "version": 2
   },
   "file_extension": ".py",
   "mimetype": "text/x-python",
   "name": "python",
   "nbconvert_exporter": "python",
   "pygments_lexer": "ipython2",
   "version": "2.7.13"
  }
 },
 "nbformat": 4,
 "nbformat_minor": 1
}
