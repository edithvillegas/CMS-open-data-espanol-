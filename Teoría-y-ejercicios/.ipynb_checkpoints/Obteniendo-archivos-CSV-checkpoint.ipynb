{
 "cells": [
  {
   "cell_type": "markdown",
   "metadata": {},
   "source": [
    "# Utilizando archivos de datos del CMS en formato CSV en Jupyter"
   ]
  },
  {
   "cell_type": "markdown",
   "metadata": {},
   "source": [
    "Los datos recolectados por el detector CMS pueden ser manipulados en muchos formatos de archivo diferentes. Una manera fácil de manipular datos es en archivos CSV (comma-separated values: valores separados por comas). Un archivo CSV es básicamente un archivo regular de texto que incluye valores separados por comas y líneas. "
   ]
  },
  {
   "cell_type": "markdown",
   "metadata": {},
   "source": [
    "### Leyendo el archivo CSV"
   ]
  },
  {
   "cell_type": "markdown",
   "metadata": {},
   "source": [
    "Los archivos CSV pueden ser leídos, por ejemplo, con la función _read_\\__csv( )_ del módulo _pandas_. Vamos a leer el archivo _Zmumu_\\__Run2011A.csv_ que está en el folder _Data_. Vamos a guardar el contenido del archivo a la variable  _dataset_.\n",
    "\n",
    "En el archivo que estamos usando han sido seleccionados eventos del set de datos primario del CMS [1] con criterios específicos [2]. \n",
    "\n",
    "<br>\n",
    "<br>\n",
    "<br>\n",
    "[1] CMS collaboration (2016). DoubleMu primary dataset in AOD format from RunA of 2011 (/DoubleMu/Run2011A-12Oct2013-v1/AOD). CERN Open Data Portal. DOI: [10.7483/OPENDATA.CMS.RZ34.QR6N](http://doi.org/10.7483/OPENDATA.CMS.RZ34.QR6N).\n",
    "<br>\n",
    "[2] Thomas McCauley (2016). Jpsimumu. Jupyter Notebook file. https://github.com/tpmccauley/cmsopendata-jupyter/blob/hst-0.1/Jpsimumu.ipynb."
   ]
  },
  {
   "cell_type": "code",
   "execution_count": 1,
   "metadata": {
    "collapsed": true
   },
   "outputs": [],
   "source": [
    "import pandas\n",
    "\n",
    "dataset = pandas.read_csv('Datos/Zmumu_Run2011A.csv')"
   ]
  },
  {
   "cell_type": "markdown",
   "metadata": {},
   "source": [
    "Podemos revisar qué información incluye el archivo que leímos. Vamos a usar el comando _head( )_ del módulo _pandas_ el cual muestra las primeras cinco líneas de la variable escrita antes del comando ([pandas documentation](http://pandas.pydata.org/pandas-docs/stable/generated/pandas.DataFrame.head.html))."
   ]
  },
  {
   "cell_type": "code",
   "execution_count": 2,
   "metadata": {},
   "outputs": [
    {
     "data": {
      "text/html": [
       "<div>\n",
       "<table border=\"1\" class=\"dataframe\">\n",
       "  <thead>\n",
       "    <tr style=\"text-align: right;\">\n",
       "      <th></th>\n",
       "      <th>Run</th>\n",
       "      <th>Event</th>\n",
       "      <th>pt1</th>\n",
       "      <th>eta1</th>\n",
       "      <th>phi1</th>\n",
       "      <th>Q1</th>\n",
       "      <th>dxy1</th>\n",
       "      <th>iso1</th>\n",
       "      <th>pt2</th>\n",
       "      <th>eta2</th>\n",
       "      <th>phi2</th>\n",
       "      <th>Q2</th>\n",
       "      <th>dxy2</th>\n",
       "      <th>iso2</th>\n",
       "    </tr>\n",
       "  </thead>\n",
       "  <tbody>\n",
       "    <tr>\n",
       "      <th>0</th>\n",
       "      <td>165617</td>\n",
       "      <td>74969122</td>\n",
       "      <td>54.7055</td>\n",
       "      <td>-0.432396</td>\n",
       "      <td>2.574210</td>\n",
       "      <td>1</td>\n",
       "      <td>-0.074544</td>\n",
       "      <td>0.499921</td>\n",
       "      <td>34.2464</td>\n",
       "      <td>-0.988480</td>\n",
       "      <td>-0.498704</td>\n",
       "      <td>-1</td>\n",
       "      <td>0.071222</td>\n",
       "      <td>3.42214</td>\n",
       "    </tr>\n",
       "    <tr>\n",
       "      <th>1</th>\n",
       "      <td>165617</td>\n",
       "      <td>75138253</td>\n",
       "      <td>24.5872</td>\n",
       "      <td>-2.052200</td>\n",
       "      <td>2.866570</td>\n",
       "      <td>-1</td>\n",
       "      <td>-0.055437</td>\n",
       "      <td>0.000000</td>\n",
       "      <td>28.5389</td>\n",
       "      <td>0.385163</td>\n",
       "      <td>-1.991170</td>\n",
       "      <td>1</td>\n",
       "      <td>0.051477</td>\n",
       "      <td>0.00000</td>\n",
       "    </tr>\n",
       "    <tr>\n",
       "      <th>2</th>\n",
       "      <td>165617</td>\n",
       "      <td>75887636</td>\n",
       "      <td>31.7386</td>\n",
       "      <td>-2.259450</td>\n",
       "      <td>-1.332290</td>\n",
       "      <td>-1</td>\n",
       "      <td>0.087917</td>\n",
       "      <td>0.000000</td>\n",
       "      <td>30.2344</td>\n",
       "      <td>-0.468419</td>\n",
       "      <td>1.883310</td>\n",
       "      <td>1</td>\n",
       "      <td>-0.087639</td>\n",
       "      <td>0.00000</td>\n",
       "    </tr>\n",
       "    <tr>\n",
       "      <th>3</th>\n",
       "      <td>165617</td>\n",
       "      <td>75779415</td>\n",
       "      <td>39.7394</td>\n",
       "      <td>-0.712338</td>\n",
       "      <td>-0.312266</td>\n",
       "      <td>1</td>\n",
       "      <td>0.058481</td>\n",
       "      <td>0.000000</td>\n",
       "      <td>48.2790</td>\n",
       "      <td>-0.195625</td>\n",
       "      <td>2.970320</td>\n",
       "      <td>-1</td>\n",
       "      <td>-0.049201</td>\n",
       "      <td>0.00000</td>\n",
       "    </tr>\n",
       "    <tr>\n",
       "      <th>4</th>\n",
       "      <td>165617</td>\n",
       "      <td>75098104</td>\n",
       "      <td>41.2998</td>\n",
       "      <td>-0.157055</td>\n",
       "      <td>-3.040770</td>\n",
       "      <td>1</td>\n",
       "      <td>-0.030463</td>\n",
       "      <td>1.228040</td>\n",
       "      <td>43.4508</td>\n",
       "      <td>0.590958</td>\n",
       "      <td>-0.042756</td>\n",
       "      <td>-1</td>\n",
       "      <td>0.044175</td>\n",
       "      <td>0.00000</td>\n",
       "    </tr>\n",
       "  </tbody>\n",
       "</table>\n",
       "</div>"
      ],
      "text/plain": [
       "      Run     Event      pt1      eta1      phi1  Q1      dxy1      iso1  \\\n",
       "0  165617  74969122  54.7055 -0.432396  2.574210   1 -0.074544  0.499921   \n",
       "1  165617  75138253  24.5872 -2.052200  2.866570  -1 -0.055437  0.000000   \n",
       "2  165617  75887636  31.7386 -2.259450 -1.332290  -1  0.087917  0.000000   \n",
       "3  165617  75779415  39.7394 -0.712338 -0.312266   1  0.058481  0.000000   \n",
       "4  165617  75098104  41.2998 -0.157055 -3.040770   1 -0.030463  1.228040   \n",
       "\n",
       "       pt2      eta2      phi2  Q2      dxy2     iso2  \n",
       "0  34.2464 -0.988480 -0.498704  -1  0.071222  3.42214  \n",
       "1  28.5389  0.385163 -1.991170   1  0.051477  0.00000  \n",
       "2  30.2344 -0.468419  1.883310   1 -0.087639  0.00000  \n",
       "3  48.2790 -0.195625  2.970320  -1 -0.049201  0.00000  \n",
       "4  43.4508  0.590958 -0.042756  -1  0.044175  0.00000  "
      ]
     },
     "execution_count": 2,
     "metadata": {},
     "output_type": "execute_result"
    }
   ],
   "source": [
    "dataset.head()"
   ]
  },
  {
   "cell_type": "markdown",
   "metadata": {},
   "source": [
    "<br>\n",
    "Observe que hay más lineas en la variable _dataset_ que las cinco que hemos mostrado. Podemos revisar el número de líneas con la función _len( )_ que nos dice el tamaño de la variable que se le pasa como argumento. \n"
   ]
  },
  {
   "cell_type": "code",
   "execution_count": 3,
   "metadata": {},
   "outputs": [
    {
     "data": {
      "text/plain": [
       "10583"
      ]
     },
     "execution_count": 3,
     "metadata": {},
     "output_type": "execute_result"
    }
   ],
   "source": [
    "len(dataset)"
   ]
  },
  {
   "cell_type": "markdown",
   "metadata": {},
   "source": [
    "### Observando y seleccionando los valores"
   ]
  },
  {
   "cell_type": "markdown",
   "metadata": {},
   "source": [
    "Del punto anterior podemos ver que el contenido del archivo que hemos leído fue salvado a la tabla (DataFrame tabular data structure). Las líneas de la tabla representan diferentes eventos de colisión y las columnas incluyen diferentes valores que han sido guardados para cada evento. Algunos de estos valores son medidos por el detector y otros han sido calculados con la ayuda de otros valores medidos.\n",
    "\n",
    "Valores en la tabla pueden ser accesados utilizando el módulo _pandas_. Por ejemplo, los datos que estamos utilizando incluye la carga de dos muones marcada como _Q1_ y _Q2_. Podemos seleccionar la carga del primer muon para todos los eventos escribiendo lo siguiente:"
   ]
  },
  {
   "cell_type": "code",
   "execution_count": 4,
   "metadata": {},
   "outputs": [
    {
     "data": {
      "text/plain": [
       "0        1\n",
       "1       -1\n",
       "2       -1\n",
       "3        1\n",
       "4        1\n",
       "5       -1\n",
       "6       -1\n",
       "7       -1\n",
       "8        1\n",
       "9       -1\n",
       "10      -1\n",
       "11       1\n",
       "12       1\n",
       "13      -1\n",
       "14       1\n",
       "15      -1\n",
       "16       1\n",
       "17      -1\n",
       "18       1\n",
       "19       1\n",
       "20      -1\n",
       "21       1\n",
       "22      -1\n",
       "23      -1\n",
       "24       1\n",
       "25       1\n",
       "26       1\n",
       "27       1\n",
       "28      -1\n",
       "29       1\n",
       "        ..\n",
       "10553    1\n",
       "10554   -1\n",
       "10555    1\n",
       "10556   -1\n",
       "10557   -1\n",
       "10558   -1\n",
       "10559    1\n",
       "10560    1\n",
       "10561   -1\n",
       "10562    1\n",
       "10563    1\n",
       "10564    1\n",
       "10565    1\n",
       "10566   -1\n",
       "10567   -1\n",
       "10568   -1\n",
       "10569   -1\n",
       "10570   -1\n",
       "10571    1\n",
       "10572   -1\n",
       "10573    1\n",
       "10574    1\n",
       "10575   -1\n",
       "10576    1\n",
       "10577    1\n",
       "10578   -1\n",
       "10579    1\n",
       "10580   -1\n",
       "10581    1\n",
       "10582    1\n",
       "Name: Q1, dtype: int64"
      ]
     },
     "execution_count": 4,
     "metadata": {},
     "output_type": "execute_result"
    }
   ],
   "source": [
    "dataset['Q1']"
   ]
  },
  {
   "cell_type": "markdown",
   "metadata": {},
   "source": [
    "Se imprimieron los valores de la columna _Q1_ de la variable _dataset_. Por supuesto, no todos los valores serán mostrados (hay más de 10000 de ellos). \n",
    "\n",
    "Los números a la izquierda dan el índice o número de la línea y los números a la derecha son los valores de la carga. Reemplazando el valor _Q1_ en el código es posible seleccionar cualquier columna de la variable _dataset_ (por ejemplo, _pt1_, _eta1_, _phi2_, ...).\n",
    "\n",
    "Si por ejemplo, queremos seleccionar solo los primeros diez valores de la carga, puede hacerse usando el método _.ix_. En el método los corchetes primero incluyen los índices de las líneas que se quiere seleccionar (líneas 0-10) y luego de eso el nombre de la columna de donde las líneas se van a seleccionar (_Q1_). "
   ]
  },
  {
   "cell_type": "code",
   "execution_count": 5,
   "metadata": {},
   "outputs": [
    {
     "data": {
      "text/plain": [
       "0     1\n",
       "1    -1\n",
       "2    -1\n",
       "3     1\n",
       "4     1\n",
       "5    -1\n",
       "6    -1\n",
       "7    -1\n",
       "8     1\n",
       "9    -1\n",
       "10   -1\n",
       "Name: Q1, dtype: int64"
      ]
     },
     "execution_count": 5,
     "metadata": {},
     "output_type": "execute_result"
    }
   ],
   "source": [
    "dataset.ix[0:10, 'Q1']"
   ]
  },
  {
   "cell_type": "markdown",
   "metadata": {},
   "source": [
    "### Otras notas"
   ]
  },
  {
   "cell_type": "markdown",
   "metadata": {},
   "source": [
    "- Hay también otras opciones para seleccionar los valores. Por ejemplo el siguiente link incluye otras posibilidades del módulo _pandas_:  [Stack Overflow link](http://stackoverflow.com/questions/31593201/pandas-iloc-vs-ix-vs-loc-explanation). Los archivos CSV también pueden ser leídos utilizando otros módulos o librerias. There are also other options for selecting the values.\n",
    "- Hay que notar que diferentes archivos CSV incluyen diferentes datos dependiendo del tipo de eventos de colisión desde el cual el archivo fue creado. Siempre se puede revisar el contenido del archivo abriéndolo en Jupyter o en un editor de texto. "
   ]
  }
 ],
 "metadata": {
  "kernelspec": {
   "display_name": "Python 2",
   "language": "python",
   "name": "python2"
  },
  "language_info": {
   "codemirror_mode": {
    "name": "ipython",
    "version": 2
   },
   "file_extension": ".py",
   "mimetype": "text/x-python",
   "name": "python",
   "nbconvert_exporter": "python",
   "pygments_lexer": "ipython2",
   "version": "2.7.13"
  }
 },
 "nbformat": 4,
 "nbformat_minor": 1
}
