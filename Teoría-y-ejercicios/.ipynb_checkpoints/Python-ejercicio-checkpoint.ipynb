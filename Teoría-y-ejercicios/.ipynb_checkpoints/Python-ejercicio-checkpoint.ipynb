{
 "cells": [
  {
   "cell_type": "markdown",
   "metadata": {},
   "source": [
    "# Ejercicio - las bases de Python"
   ]
  },
  {
   "cell_type": "markdown",
   "metadata": {},
   "source": [
    "Escriba en la casilla de código abajo un programa siguiendo los pasos a continuación:\n",
    "- crear una variable _cambio_ y guardar una cadena de caracteres \"Ahora hay texto en nuestra variable\" en ella.\n",
    "- mostrar el contenido de la variable _cambio_. \n",
    "- hacer que el código cambie el valor de la variable _cambio_ al número 8,256\n",
    "- mostrar de nuevo el contenido de la variable"
   ]
  },
  {
   "cell_type": "code",
   "execution_count": null,
   "metadata": {
    "collapsed": true
   },
   "outputs": [],
   "source": []
  }
 ],
 "metadata": {
  "kernelspec": {
   "display_name": "Python 2",
   "language": "python",
   "name": "python2"
  },
  "language_info": {
   "codemirror_mode": {
    "name": "ipython",
    "version": 2
   },
   "file_extension": ".py",
   "mimetype": "text/x-python",
   "name": "python",
   "nbconvert_exporter": "python",
   "pygments_lexer": "ipython2",
   "version": "2.7.13"
  }
 },
 "nbformat": 4,
 "nbformat_minor": 1
}
