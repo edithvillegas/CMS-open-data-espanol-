{
 "cells": [
  {
   "cell_type": "markdown",
   "metadata": {},
   "source": [
    "# Tutorial de Jupyter Notebook "
   ]
  },
  {
   "cell_type": "markdown",
   "metadata": {},
   "source": [
    "¡Bienvenidos a Jupyter Notebook!\n",
    "\n",
    "Este tutorial incluye las bases de la aplicación Jupyter Notebook. Si ha abierto este tutorial en Jupyter puede probar las distintas características, modificar el contenido y crear comentarios. Si no ha instalado Jupyter todavía, puede encontrar instrucciones para instalarlo en la sección _Instalando Jupyter Notebook_. \n",
    "\n",
    "Puede también abrir una versión de prueba gratis en la dirección https://try.jupyter.org/ o crear una cuenta gratuita en el serivicio CoCalc en la dirección https://cocalc.com/. CoCalc hace que sea posible utilizar Jupyter en la nube sin necesidad de instalarlo en una computadora. \n",
    "\n",
    "Para más detalles, la documentación oficial del proyecto Jupyter puede ser encontrada en: http://jupyter.readthedocs.io/en/latest/index.html. Documentación sobre Jupyter Notebook está disponible en: http://jupyter-notebook.readthedocs.io/en/latest/."
   ]
  },
  {
   "cell_type": "markdown",
   "metadata": {},
   "source": [
    "### ¿Qué es Jupyter Notebook?"
   ]
  },
  {
   "cell_type": "markdown",
   "metadata": {},
   "source": [
    "Jupyter Notebook es una aplicación web que hace posible crear documentos que contienen código ejecutable, texto regular, imágenes, visualizaciones y ecuaciones matemáticas. Estos documentos se llaman __notebooks__ o cuadernos.\n",
    "\n",
    "Jupyter es una aplicación de código abierto. Funciona en más de 40 lenguajes de programación diferentes, incluyendo Python, C++, JavaScript y Ruby."
   ]
  },
  {
   "cell_type": "markdown",
   "metadata": {},
   "source": [
    "### Instalando Jupyter Notebook"
   ]
  },
  {
   "cell_type": "markdown",
   "metadata": {},
   "source": [
    "Hay varias maneras diferentes de instalar Jupyter Notebook. La más fácil y recomendada es instalar Jupyter con Anaconda. Anaconda instala al mismo tiempo Python, Jupyter Notebook y algunos paquetes útiles de Python. Instalar Anaconda es fácil:\n",
    "\n",
    "- Descargar Anaconda desde https://www.continuum.io/downloads. Es recomendado descargar la versión más reciente de Python (actualmente Python 3.6).\n",
    "- Instalar Anaconda con el instalador que viene en el paquete que descargó.\n",
    "- Después de la instalación puede iniciar Jupyter abriendo la aplicación _Anaconda Navigator_ y seleccionando Jupyter Notebook del menú, o escribiendo el comando _jupyter notebook_ en la línea de comandos.\n",
    "\n",
    "Otras opciones para instalar Jupyter pueden ser encontradas en: http://jupyter.readthedocs.io/en/latest/install.html."
   ]
  },
  {
   "cell_type": "markdown",
   "metadata": {},
   "source": [
    "### Iniciando y creando un nuevo notebook (cuaderno)"
   ]
  },
  {
   "cell_type": "markdown",
   "metadata": {},
   "source": [
    "Jupyter Notebook puede ser iniciado con la aplicación _Anaconda Navigator_ o con la línea de comandos como se expica más arriba. Después de iniciar aparecerá el menú de Jupyter. \n",
    "<br>\n",
    "<br>\n",
    "<img src=\"Images/Dashboard.png\" align=\"center\">\n",
    "\n",
    "Con el menú pueden crearse nuevos notebooks, abrirse o eliminarse. También la operación de Jupyter puede ser administrada. Exploraremos el menú más en detalle en la sección _Guardando el cuaderno y utilizando el menú_.\n",
    "\n",
    "Un nuevo notebook puede ser creado con el boton _New_ (nuevo) arriba a la derecha en el menú. Presionar el botón abrirá un menú en el cual debajo del texto _Notebooks_ el __kernel__ del notebook puede ser seleccionado. El kernel determina qué lenguaje de programación (e.g. Python 2, Python 3, C++...) utilizará el notebook. El número de kernels disponible depende de cuantos kernels el usuario ha instalado.\n",
    "\n",
    "En este tutorial estamos utilizando el lenguaje de programación Python 3. Después de seleccionar el kernel el notebook abrirá en una nueva pestaña."
   ]
  },
  {
   "cell_type": "markdown",
   "metadata": {},
   "source": [
    "### Interfaz de usuario"
   ]
  },
  {
   "cell_type": "markdown",
   "metadata": {},
   "source": [
    "Jupyter utiliza una interfaz de usuario basada en explorador web. Las partes más importantes de la interfaz de usuario son el menú y la barra de herramientas en la parte de arriba de la interfaz (en la figura abajo) y el área del cuaderno. \n",
    "<br>\n",
    "<br>\n",
    "<img src=\"Images/Palkit.png\" align=\"left\">\n",
    "<br>\n",
    "<br>\n",
    "<br>\n",
    "<br>\n",
    "<br>\n",
    "Jupyter es utilizado en dos modos diferentes: en __edit mode__ (modo de edición) y en  __command mode__ (modo de comandos). En el modo de edición es posible modificar el contenido de una parte del cuaderno, una __cell__ o casilla. En el mode de comandos el cuaderno será manejado como una unidad completa.\n",
    "\n",
    "El modo de edición puede ser activado presionando _Enter_ o haciendo doble clic en la casilla que quiere ser editada. Puede regresarse al modo de comandos presionando _Esc_ o dando doble clic de nuevo. Desde la derecha del menú es posible revisar en qué modo Jupyter está. Si se muestra el lápiz como en la imagen a continuación\n",
    "\n",
    "<img src=\"Images/Editointitila.png\" align=\"left\">\n",
    "<br>\n",
    "<br>\n",
    "entonces se está en el modo edición. De lo contrario se está en el modo de comandos. \n",
    "\n",
    "Los comandos clave en el modo de edición y en el modo de comandos pueden ser diferentes. Dependiendo en qué modo está Jupyter, los mismos botones pueden tener diferentes acciones asociadas. Por ejemplo en modo de comandos el botón _s_ guardará el cuaderno pero en modo de edición el botón _s_ escribe la letra \"s\" en la casilla que se está editando."
   ]
  },
  {
   "cell_type": "markdown",
   "metadata": {},
   "source": [
    "### Casillas"
   ]
  },
  {
   "cell_type": "markdown",
   "metadata": {},
   "source": [
    "Todo el contenido del cuaderno se escribe en casillas o __cells__. Abajo por ejemplo hay un ejemplo de una casilla que fue determinada como una casilla de código. También el texto que estás leyendo está en una casilla, una casilla de texto. Las casillas pueden ser ejecutadas. Ejecutar la casilla tendrá diferentes resultados dependiendo del tipo de casilla."
   ]
  },
  {
   "cell_type": "code",
   "execution_count": 5,
   "metadata": {
    "collapsed": true
   },
   "outputs": [],
   "source": [
    "# Esta es una casilla de código que incluye sólo este comentario y nada de código."
   ]
  },
  {
   "cell_type": "markdown",
   "metadata": {},
   "source": [
    "Hay cuatro diferentes tipos de casillas en Jupyter: __code__ (código de programación), __Markdown__ (texto normal), __heading__ y __raw__ (código que no se utilizará en el contenido del cuaderno). La más importante de estas son las casillas de código y las casillas de texto. "
   ]
  },
  {
   "cell_type": "markdown",
   "metadata": {},
   "source": [
    "### Creando y editando una casilla"
   ]
  },
  {
   "cell_type": "markdown",
   "metadata": {},
   "source": [
    "Una nueva casilla de código puede ser creada seleccionado _Insert_ -> _Insert Cell Below_ desde el menú, haciendo clic en el botón $+$ de la barra de herramientas o presionando _b_ desde el teclado. Si está leyendo este tutorial en Juyter puede tratar de añadir una nueva casilla debajo de esta casilla de texto.\n",
    "\n",
    "Después de crear la casilla el tipo de casilla puede ser seleccionado. La selección se puede realizar seleccionando en la barra de herramientas\n",
    "\n",
    "<img src=\"Images/Solutyyppi.png\" align=\"left\">\n",
    "<br>\n",
    "<br>\n",
    "o con diferentes abreviaciones del teclado. El botón _m_ selecciona una casilla de texto, el botón _y_ una casilla de código, el botón _r_ una casilla \"raw\" y los botones _1–6_ diferentes casillas de título (heading).\n",
    "\n",
    "Las casillas pueden ser editadas en el modo de edición presionando _Enter_ o haciendo doble clic sobre la casilla. El tipo de casilla puede ser entonces cambiada incluso si hay contenido en la casilla.\n",
    "\n",
    "Eliminar la casilla es fácil de hacer presionando el botón _d_ dos veces cuando la casilla está activa. También puede eliminarse la casilla seleccionando desde el menú _Edit_ -> _Delete Cells_. "
   ]
  },
  {
   "cell_type": "markdown",
   "metadata": {},
   "source": [
    "### Ejecutando las casillas"
   ]
  },
  {
   "cell_type": "markdown",
   "metadata": {},
   "source": [
    "La característica más importante de Jupyter Notebook es la ejecución de casillas. Después de ejecutada, la casilla realizará las acciones para las que fue programada. El contenido de una casilla \"Markdown\" se convertirá en texto regular, la casilla de título (heading) se convertirá en un título, y la casilla de código hará lo que se programó en ella en el lenguaje de programación seleccionado.\n",
    "\n",
    "Tal vez notó que al cambiar a modo de edición y salir de una casilla de texto la casilla no regresará automáticamente a texto normal. Esto sucede porque la casilla necesita ser ejecutada después de editarla.\n",
    "\n",
    "La única casilla que no puede ser ejecutada en Jupyter es la casilla raw. El código escrito en la casilla raw está concebida por ejemplo para la herramienta _nbconvert_ (https://github.com/jupyter/nbconvert). Con la herramienta nbconvert los cuadernos pueden ser importados en otros formatos de archivo.\n",
    "\n",
    "Puede ejecutarse la casilla en 3 modos diferentes. Desde el menú la casilla puede ser ejecutada seleccionando0 _Cells_ -> _Run Cells_ y desde la barra de herramientas presionando el botón _run cell, select below_ (en la imagen abajo). También puede utilizarse el atajo de teclado _Ctrl_ + _Enter_ que es el más rápido y útil de aprender. \n",
    "\n",
    "<img src=\"Images/Soluajo.png\" align=\"left\">\n",
    "<br>\n",
    "<br>\n",
    "Si está leyendo este tutorial en Jupyter puede tratar de ejecutar la casilla de código abajo. También puede tratar de editar la casilla y ejecutarla de nuevo. "
   ]
  },
  {
   "cell_type": "code",
   "execution_count": 1,
   "metadata": {},
   "outputs": [
    {
     "name": "stdout",
     "output_type": "stream",
     "text": [
      "¡Hola mundo!\n"
     ]
    }
   ],
   "source": [
    "# Esta es una casilla de código. Después de ejecutar la casilla el texto \"Hola mundo\" debería ser mostrado.\n",
    "\n",
    "print('¡Hola mundo!')"
   ]
  },
  {
   "cell_type": "markdown",
   "metadata": {},
   "source": [
    "Ahora miremos las casillas de texto, de título y de código de más de cerca."
   ]
  },
  {
   "cell_type": "markdown",
   "metadata": {},
   "source": [
    "### Casillas de texto"
   ]
  },
  {
   "cell_type": "markdown",
   "metadata": {},
   "source": [
    "Las casillas de texto utilizan el lenguaje \"Markdown markup\" (https://daringfireball.net/projects/markdown/). Markdown hace que sea más fácil darle formato al texto simple. El texto puede por ejemplo ser escrito en __negrita__, _cursiva_ o ~~tachado~~.\n",
    "\n",
    ">Por ejemplo este tipo de bloque de cita puede ser añadido en el texto.\n",
    "\n",
    "También pueden crearse listas.\n",
    "\n",
    "Lista de compras:\n",
    "- tomates\n",
    "- leche\n",
    "- café\n",
    "\n",
    "En este ejemplo los comandos de formato de Markdown no serán motrados en más detalle pero una lista de los diferentes comandos puede ser vista por ejemplo en la página web: https://github.com/adam-p/markdown-here/wiki/Markdown-Cheatsheet. Puede también entrar en el modo de edición de esta lista de comandos y ver como dar diferentes formatos al texto. "
   ]
  },
  {
   "cell_type": "markdown",
   "metadata": {},
   "source": [
    "### Casilla de título"
   ]
  },
  {
   "cell_type": "markdown",
   "metadata": {},
   "source": [
    "Las casillas de título en realidad ni siquiera son un tipo de casillas, sino más bien atajos para crear títulos. Esto es porque las casillas de título también utilizan Markdown, así que son básicamente casillas de texto normal.\n",
    "\n",
    "Títulos de distintos niveles pueden ser determinados en lenguaje Markdown con los carácteres #. Abajo se muestran los niveles de títulos que están en uso en Jupyter empezando desde #, continuando con ## y terminando con ######."
   ]
  },
  {
   "cell_type": "markdown",
   "metadata": {},
   "source": [
    "# Primer tipo de título"
   ]
  },
  {
   "cell_type": "markdown",
   "metadata": {},
   "source": [
    "## Segundo tipo de título"
   ]
  },
  {
   "cell_type": "markdown",
   "metadata": {},
   "source": [
    "### Tercer tipo de título"
   ]
  },
  {
   "cell_type": "markdown",
   "metadata": {},
   "source": [
    "#### Cuarto tipo de título"
   ]
  },
  {
   "cell_type": "markdown",
   "metadata": {},
   "source": [
    "##### Quinto tipo de título"
   ]
  },
  {
   "cell_type": "markdown",
   "metadata": {},
   "source": [
    "###### Sexto tipo de título"
   ]
  },
  {
   "cell_type": "markdown",
   "metadata": {},
   "source": [
    "Atajos para los diferentes tipos de títulos pueden ser encontrados en los botones _1–6_. Prácticamente cuando el usuario asigna una casilla a un tipo de casilla de título, Jupyter cambia automáticamente el tipo de la casilla a una casilla de texto y añade el número de # necesarios. \n",
    "\n",
    "Incluso cuando las casillas de título y las casillas de texto son básicamente las mismas, es recomendado mantener los títulos por separado en su propia casilla. Esto hace que la compilación del texto sea más fácil para el programa."
   ]
  },
  {
   "cell_type": "markdown",
   "metadata": {},
   "source": [
    "### Casilla de código"
   ]
  },
  {
   "cell_type": "markdown",
   "metadata": {},
   "source": [
    "El código de programación en el lenguaje de programación seleccionado (el kernel determina el lenguaje) puede ser escrito en casillas de código. Por ejemplo si el cuaderno utiliza el kernel de Python 3, comandos de Python 3 pueden ser ejecutados en las casillas de código. Si en este caso se utilizara otro lenguaje de programación el código no sería compilado porque sería interpretado como código de Python 3.\n",
    "\n",
    "El código escrito en las casillas de código se comporta de una manera similar al código en otros ambientes de programación. Esto es posible por el kernel IPython. La ejecución del código está en resumen basada en la conección entre el cuaderno y el kernel. Este código es realmente ejecutado en el kernel. El kernel (núcleo) se comunicará con el cuaderno y dará los resultados de la ejecución. Los resultados de la ejecución del código serán mostrados en la sección del _output_ debajo de la casilla de código. \n",
    "\n",
    "Por ejemplo en la casilla de código abajo el resultado del cálculo 3 + 4 es guardado en la variable resultado. Después de eso se pide que se muestre el valor de esta variable. Cuando el código es ejecutado, la creación de la variable y el cálculo son realizados en el kernel. Después de eso el kernel regresará los resultados al cuaderno y el cuadern número 7 aparece en la parte del _output_. "
   ]
  },
  {
   "cell_type": "code",
   "execution_count": 2,
   "metadata": {},
   "outputs": [
    {
     "data": {
      "text/plain": [
       "7"
      ]
     },
     "execution_count": 2,
     "metadata": {},
     "output_type": "execute_result"
    }
   ],
   "source": [
    "resultado = 3 + 4\n",
    "resultado"
   ]
  },
  {
   "cell_type": "markdown",
   "metadata": {},
   "source": [
    "El output de la casilla de código no está restringido a sólo números y texto. El output puede ser por ejemplo una gráfica. En la casilla de código abajo diferentes pares de números son gráficados con el módulo _matlpotlib_ y el output será una gráfica. "
   ]
  },
  {
   "cell_type": "code",
   "execution_count": 4,
   "metadata": {},
   "outputs": [
    {
     "data": {
      "image/png": "[encoded data removed]",
      "text/plain": [
       "<matplotlib.figure.Figure at 0x7fe018c87f90>"
      ]
     },
     "metadata": {},
     "output_type": "display_data"
    }
   ],
   "source": [
    "import matplotlib.pyplot as plt\n",
    "\n",
    "% matplotlib inline\n",
    "numbers = [1,2,3,6,7,8,12,16]\n",
    "plt.plot(numbers, 'ro')\n",
    "plt.show()"
   ]
  },
  {
   "cell_type": "markdown",
   "metadata": {},
   "source": [
    "### Añadiendo imágenes y videos al cuaderno"
   ]
  },
  {
   "cell_type": "markdown",
   "metadata": {},
   "source": [
    "Hay diferentes maneras de añadir imágenes y videos a los cuadernos. Aquí se muestra como hacerlo con HTML."
   ]
  },
  {
   "cell_type": "markdown",
   "metadata": {},
   "source": [
    "#### Añadiendo una imagen"
   ]
  },
  {
   "cell_type": "markdown",
   "metadata": {},
   "source": [
    "Ya que Jupyter utiliza el lenguaje Markdown, algunas etiquetas HTML trabajarán directamente, Por ejemplo puede añadirse una imagen de prueba _Test-image.png_ escribiendo el siguiente código:\n",
    "\n",
    "```<img src=\"Test-image.png\">```"
   ]
  },
  {
   "cell_type": "markdown",
   "metadata": {},
   "source": [
    "En el ejemplo más arriba la imágene tiene que estar en el mismo directorio que el cuaderno. Tiene que especificarse si la imagen que será añadida estará en el mismo directorio o en otro directorio distinto del directorio en el que está el cuaderno. Un buen ejemplo de como referirse a directorios en distintos casos puede encontrarse de: https://stackoverflow.com/questions/14489016/how-to-properly-reference-local-resources-in-html.\n",
    "\n",
    "Veamos por ejemplo la situación en la que el folder que contiene la imágene está en el mismo directorio que el cuaderno. \n",
    "\n",
    "<img src=\"Images/Example.png\" align=\"left\" width=\"500\">\n",
    "<br>\n",
    "<br>\n",
    "<br>\n",
    "<br>\n",
    "<br>\n",
    "<br>\n",
    "<br>\n",
    "<br>\n",
    "<br>\n",
    "<br>\n",
    "<br>\n",
    "Puede añadirse la imágen al cuaderno con la siguiente etiqueta:\n",
    "```<img src=\"Images/Test-image.png\">```\n",
    "\n",
    "Si está leyendo este tutorial en Jupyter puede también ver como las imágenes están escritas en las casillas de texto entrando en el modo de edición."
   ]
  },
  {
   "cell_type": "markdown",
   "metadata": {},
   "source": [
    "#### Dando formato a las imágenes"
   ]
  },
  {
   "cell_type": "markdown",
   "metadata": {},
   "source": [
    "Por ejemplo información sobre la posición y el tamaño de la imágen puede ser añadida a la etiqueta HTML. Por ejemplo la imagen en el ejemplo anterior está alineada a la derecha con la etiqueta siguiente:\n",
    "\n",
    "```<img src=\"Images/Testikuva.png\" align=\"left\">```.\n",
    "\n",
    "Es posible seleccionar el tamaño indicando por ejemplo en pixels,\n",
    "\n",
    "```<img src=\"Images/Testikuva.png\" width=\"80\" height=\"50\">```.\n",
    "\n",
    "Más información sobre las etiquetas de imagen en HTML puede ser encontrada en: https://www.w3schools.com/tags/tag_img.asp."
   ]
  },
  {
   "cell_type": "markdown",
   "metadata": {},
   "source": [
    "#### Añadiendo un video"
   ]
  },
  {
   "cell_type": "markdown",
   "metadata": {},
   "source": [
    "Puede añadirse un video en el cuaderno con las siguientes etiquetas HTML. Se determina el directorio del video de manera similar a cómo se hace con la imagen (ver la sección más arriba). Por ejemplo puede añadirse el video de prueba que está en el mismo directorio que el cuaderno con la siguiente etiqueta:\n",
    "\n",
    "```<video src=\"Test-video.mp4\" type=\"video/mp4\" controls>```"
   ]
  },
  {
   "cell_type": "markdown",
   "metadata": {},
   "source": [
    "En la etiqueta el _tipo_ determina el formato de archivo del video, que en este ejemplo es .mp4. El comando _controls_ crea los botones necesarios para reproducir el video. Más información acerca de las etiquetas de video HTML puede ser encontrada en: https://www.w3schools.com/tags/tag_video.asp.\n",
    "\n",
    "El video añadido en el cuaderno puede verse por ejemplo así:\n",
    "\n",
    "<video src=\"Videos/Testivideo.mp4\" type=\"video/mp4\" controls>"
   ]
  },
  {
   "cell_type": "markdown",
   "metadata": {},
   "source": [
    "### Jupyter y $\\LaTeX$"
   ]
  },
  {
   "cell_type": "markdown",
   "metadata": {},
   "source": [
    "La aplicación Jupyter Notebook también funciona con formato $\\LaTeX$. Con $\\LaTeX$ pueden crearse ecuaciones matemáticas de manera fácil. En Jupyter $\\LaTeX$ puede ser utilizado en casillas de texto normal separándolo del resto del texto con los caracteres $\\$$. El comando $\\$...\\$$ produce material que está dentro del texto (inline mode) y el comando $\\$\\$...\\$\\$$ produce material separado del texto (displayed mode). El códgio $\\LaTeX$ puede ser escrito en la sección $...$.\n",
    "\n",
    "El modo inline (dentro del texto) se ve así: $\\sin(x) = \\frac{3}{4}$ y el modo de display (separado del texto):\n",
    "\n",
    "$$\\int_2^3{cos(x)} = \\frac{23}{45}$$\n",
    "\n",
    "Más información acerca de $\\LaTeX$ puede ser encontrada en: https://www.latex-project.org/."
   ]
  },
  {
   "cell_type": "markdown",
   "metadata": {},
   "source": [
    "### Guardando cuadernos (notebooks) y utilizando el menú"
   ]
  },
  {
   "cell_type": "markdown",
   "metadata": {},
   "source": [
    "Puede guardarse fácilmente el cuaderno presionando la tecla _s_ en el modo de comandos. El cuaderno también puede ser guardado seleccionando _File_ -> _Save and Checkpoint_ desde el menú o dando clic en el ícono de guardar desde la parte izquierda del menú:\n",
    "\n",
    "<img src=\"Images/Tallennus.png\" align=\"left\">\n",
    "<br>\n",
    "<br>\n",
    "Los cuadernos se guardarán en el formato de archivo .ipynb . Los cuadernos que han sido guardados pueden ser abiertos desde el menú. \n",
    "<br>\n",
    "<br>\n",
    "<img src=\"Images/Dashboard.png\" align=\"center\">\n",
    "En el menú la pestaña _Files_ es para explorar los archivos y la pestaña _Running_ para explorar los procesos de Jupyter que están siendo ejecutados. En este tutorial la pestaña _Clusters_ no es utilizada.\n",
    "\n",
    "La pestaña _Files_ muestra el contenido de los lugares donde Jupyter guarda archivos (computadora, servidor, servicio en la nube). En la pestaña _Files_ pueden abrirse, eliminarse, duplicarse y renombrarse cuadernos. Si el logo de algún cuaderno es verde (observar la imagen abajo) significa que el cuaderno está siendo ejecutado. \n",
    "\n",
    "Jupyter no termina automáticamente la ejecución de los cuadernos y los desconecta del kernel cuando se cierra la pestaña que contiene el cuaderno. La ejecución de los cuadernos debe ser terminada manualmente después de su uso. Esto puede hacerse de dos maneras diferentes, la primera es darle clic al cuaderno activo en la pestaña _Files_ y darle clic al botón _Shutdown_ (en la imagen abajo) que aparecerá.\n",
    "<br>\n",
    "<br>\n",
    "<img src=\"Images/Shutdown.png\" align=\"left\">\n",
    "<br>\n",
    "<br>\n",
    "<br>\n",
    "<br>\n",
    "<br>\n",
    "<br>\n",
    "La segunda manera de terminar la ejecución del cuaderno es abriendo la pestaña _Running_ y luego dando clic en el botón _Shutdown_ a la derecha del nombre del cuaderno:\n",
    "<br>\n",
    "<br>\n",
    "<img src=\"Images/Running.png\" align=\"left\">"
   ]
  },
  {
   "cell_type": "markdown",
   "metadata": {},
   "source": [
    "### Utilizando los cuadernos"
   ]
  },
  {
   "cell_type": "markdown",
   "metadata": {},
   "source": [
    "Cuadernos elaborados previamente pueden usarse en dos maneras diferentes: como versiones interactivas y como versiones estáticas. Cuando los cuadernos se abren en Jupyter, la interactividad de los cuadernos permanecerá. Esto significa que el usuario puede ejecutar las casillas y editarlas. Además, los cuadernos se pueden ver también como versiones estáticas. Entonces, el contenido de las casillas es visible, pero las casillas no se pueden ejecutar o editar. La aplicación Jupyter Notebook no es necesaria para ver las versiones estáticas.\n",
    "\n",
    "Versiones estáticas de los cuadernos se pueden crear de diferentes maneras. Un cuaderno puede ser por ejemplo guardado como un archivo .html (que se puede ver en un navegador) seleccionando _File_ -> _Download as_ -> _HTML_ del menú. Otra forma útil de ver los cuadernos estáticos es la aplicación __nbviewer__ (https://nbviewer.jupyter.org/). Con nbviewer es posible ver los cuadernos publicados en línea como versiones estáticas .html. La URL del cuaderno o el nombre de usuario de GitHub (si el cuaderno se guarda en GitHub (https://github.com/)) se le da a nbviewer para visualizar los cuadernos."
   ]
  },
  {
   "cell_type": "markdown",
   "metadata": {},
   "source": [
    "### Possible problemas y soluciones"
   ]
  },
  {
   "cell_type": "markdown",
   "metadata": {},
   "source": [
    "##### Ejecutar las casillas de código toma demasiado tiempo"
   ]
  },
  {
   "cell_type": "markdown",
   "metadata": {},
   "source": [
    "A veces ejecutar una casilla de código incorrecta o demasiado compleja puede atascar Jupyter. La ejecución de la casilla de código se puede interrumpir seleccionando _Kernel_ -> _Interrupt_ en el menú o haciendo clic en el botón _interrupt kernel_ (en la imagen de abajo) de la barra de herramientas.\n",
    "\n",
    "<Img src = \"Imágenes / Interrupción.png\" align = \"left\">\n",
    "<br>\n",
    "<br>\n",
    "\n",
    "La casilla de código que está todavía en ejecución puede ser reconocida por el asterisco dentro de la marca _In_ en el lado izquierdo de la casilla\n",
    "\n",
    "<Img src = \"Imágenes / Busy.png\" align = \"left\">\n",
    "<br>\n",
    "<br>\n",
    "\n",
    "O por el texto _ (ocupado) _ mostrado en el nombre de la pestaña del cuaderno."
   ]
  },
  {
   "cell_type": "markdown",
   "metadata": {},
   "source": [
    "##### Se perdió la conexión con el kernel"
   ]
  },
  {
   "cell_type": "markdown",
   "metadata": {},
   "source": [
    "El cuaderno puede perder la conexión al kernel donde está conectado. La conexión rota se puede ver desde el icono en el lado derecho del menú. Cuando el kernel está funcionando normalmente el icono se ve como una esfera entera\n",
    "\n",
    "<Img src = \"Imágenes / Toimiva.png\" align = \"left\">\n",
    "<br>\n",
    "<br>\n",
    "\n",
    "Pero cuando se pierde la conexión, el icono parece una esfera rota.\n",
    "\n",
    "<Img src = \"Imágenes / Yhteyskatko.png\" align = \"left\">\n",
    "<br>\n",
    "<br>\n",
    "\n",
    "Puede intentar restablecer la conexión reconectando el cuaderno al kernel. Esto se puede hacer seleccionando _Kernel_ -> _Reconnect_ en el menú.Si la reconexión no ayuda, se puede probar la reinicialización del kernel. Hay que señalar que todas las variables creadas en el cuaderno desaparecerán cuando el kernel se inicie de nuevo. El reinicio puede hacerse seleccionando _Kernel_ -> _Restart_ del menú o haciendo clic en el botón _restart the kernel (con diálogo) _ de la barra de herramientas:\n",
    "\n",
    "<Img src = \"Images / Restart.png\" align = \"left\">\n",
    "<br>\n",
    "<br>\n"
   ]
  },
  {
   "cell_type": "markdown",
   "metadata": {},
   "source": [
    "#####  La casilla de código no se compila al ejecutarse"
   ]
  },
  {
   "cell_type": "markdown",
   "metadata": {},
   "source": [
    "Si la celda de código no se compila correctamente cuando se ejecuta, las posibles razones pueden ser, por ejemplo, código incorrectamente escrito o la selección accidental del tipo de casilla incorrecta. Por ejemplo, si el código se escribe en la celda de Markdown no hará las acciones que se pretende, sino que sólo se mostrará  texto.\n",
    "\n",
    "También un kernel incorrecto puede ser una razón para el comportamiento no deseado de una casilla de código. El kernel determinará en qué lenguaje de programación se maneja el código escrito en casillas de código.\n"
   ]
  },
  {
   "cell_type": "markdown",
   "metadata": {},
   "source": [
    "### Otras notas"
   ]
  },
  {
   "cell_type": "markdown",
   "metadata": {},
   "source": [
    "Este tutorial incluye información sobre cómo iniciar a utilizar Jupyter Notebook. Además de estos fundamentos, Jupyter ofrece muchas posibilidades diferentes, por ejemplo, para cálculos, análisis de datos, enseñanza o aprendizaje de la programación. Una buena manera de aprender el uso de Jupyter o la programación es desafiarse a sí mismo. _¿Qué hará esta pieza de código? ¿Cómo podría escribir un cuaderno que calcularía un promedio de calificaciones? ¿Podría ser posible hacer un histograma de las calificaciones?_\n",
    "La página https://github.com/jupyter/jupyter/wiki/A-gallery-of-interesting-Jupyter-Notebooks incluye muchos ejemplos interesantes sobre cuadernos ya creados. Estos ejemplos proporcionan una imagen sobre qué tipo de material es posible hacer con Jupyter Notebook. ¡Pásela bien con Jupyter!"
   ]
  }
 ],
 "metadata": {
  "kernelspec": {
   "display_name": "Python 2",
   "language": "python",
   "name": "python2"
  },
  "language_info": {
   "codemirror_mode": {
    "name": "ipython",
    "version": 2
   },
   "file_extension": ".py",
   "mimetype": "text/x-python",
   "name": "python",
   "nbconvert_exporter": "python",
   "pygments_lexer": "ipython2",
   "version": "2.7.13"
  }
 },
 "nbformat": 4,
 "nbformat_minor": 1
}
