{
 "cells": [
  {
   "cell_type": "markdown",
   "metadata": {},
   "source": [
    "# Ejercicios de Jupyter Notebook"
   ]
  },
  {
   "cell_type": "markdown",
   "metadata": {},
   "source": [
    "### 1) Creando una casilla Markdown "
   ]
  },
  {
   "cell_type": "markdown",
   "metadata": {},
   "source": [
    "- Crear una nueva casilla a continuación presionando _b_ o seleccionando _Insert_ -> _Insert Cell Below_.\n",
    "- Elegir el tipo de casilla Markdown.\n",
    "- Escribir texto regular y una ecuación matemática usando $ \\ LaTeX $ en la celda. Escribir la ecuación entre los caracteres $ \\ $ \\ $ ... \\ $ \\ $$ para separarlos del texto.\n",
    "- Ejecutar la celda haciendo clic en ella y presionando _Ctrl_ + _Enter_ o seleccionando _Cell_ -> _Run Cells_."
   ]
  },
  {
   "cell_type": "markdown",
   "metadata": {},
   "source": [
    "### 2) Creando una casilla de código"
   ]
  },
  {
   "cell_type": "markdown",
   "metadata": {},
   "source": [
    "- Crear una nueva celda a continuación y establecerla como una celda de código.\n",
    "- Escribir un código que calculará y mostrará el promedio de los números 3,5,6 y 9 en la celda.\n",
    "- Añadir también el siguiente fragmento de código :\n",
    "`` `Print ('Se mostró el Promedio')` ``\n",
    "- Ejecute la casilla haciendo clic en ella y presionando _Ctrl_ + _Enter_ o seleccionando _Cell_ -> _Run Cells_."
   ]
  },
  {
   "cell_type": "markdown",
   "metadata": {},
   "source": [
    "### 3) Creando títulos y guardando"
   ]
  },
  {
   "cell_type": "markdown",
   "metadata": {},
   "source": [
    "- Crear encabezados para las casillas que creó. Créelos en sus propias casillas.\n",
    "- Al final, guarde su cuaderno."
   ]
  }
 ],
 "metadata": {
  "kernelspec": {
   "display_name": "Python 2",
   "language": "python",
   "name": "python2"
  },
  "language_info": {
   "codemirror_mode": {
    "name": "ipython",
    "version": 2
   },
   "file_extension": ".py",
   "mimetype": "text/x-python",
   "name": "python",
   "nbconvert_exporter": "python",
   "pygments_lexer": "ipython2",
   "version": "2.7.13"
  }
 },
 "nbformat": 4,
 "nbformat_minor": 1
}
