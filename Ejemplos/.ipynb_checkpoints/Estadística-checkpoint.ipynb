{
 "cells": [
  {
   "cell_type": "markdown",
   "metadata": {},
   "source": [
    "# Estadística con los datos de acceso libre de CMS"
   ]
  },
  {
   "cell_type": "markdown",
   "metadata": {},
   "source": [
    "Con Python es muy fácil calcular valores estadísticos para los datos de acceso libre de CMS. En este cuaderno aprenderemos como calcular el promedio, la varianza y la desviación estándar. \n",
    "\n",
    "Utilizaremos datos reales de física de partículas recolectados por el detector CMS. En el archivo _Jpsimumu_\\__Run2011A.csv_ han sido seleccionados eventos de las bases de datos primarias [1] con criterios específicos [2].\n",
    "\n",
    "Empecemos los calculos importando módulos de Python necesarios y obteniendo los datos del archivo.\n",
    "<br>\n",
    "<br>\n",
    "<br>\n",
    "[1] CMS collaboration (2016). DoubleMu primary dataset in AOD format from RunA of 2011 (/DoubleMu/Run2011A-12Oct2013-v1/AOD). CERN Open Data Portal. DOI: [10.7483/OPENDATA.CMS.RZ34.QR6N](http://doi.org/10.7483/OPENDATA.CMS.RZ34.QR6N).\n",
    "<br>\n",
    "[2] Thomas McCauley (2016). Jpsimumu. Jupyter Notebook file. https://github.com/tpmccauley/cmsopendata-jupyter/blob/hst-0.1/Jpsimumu.ipynb."
   ]
  },
  {
   "cell_type": "markdown",
   "metadata": {},
   "source": [
    "### Configuración y graficando el histograma"
   ]
  },
  {
   "cell_type": "code",
   "execution_count": 1,
   "metadata": {
    "collapsed": true
   },
   "outputs": [],
   "source": [
    "# Importar los módulos necesarios. Pandas es para análisis de datos, numpy es para cálculos científicos\n",
    "# y matplotlib.pyplot para hacer gráficas. Los módulos son nombrados pd, np y plt.\n",
    "import pandas as pd\n",
    "import numpy as np\n",
    "import matplotlib.pyplot as plt\n",
    "\n",
    "# Los cuadernos de Jupyter utilizan \"funciones mágicas\". Con estas funciones es posible graficar\n",
    "# el histograma directamente en el cuaderno\n",
    "%matplotlib inline\n",
    "\n",
    "# Crear una nueva estructura de marco de datos a partir del archivo \"Jpsimumu_Run2011A.csv\"\n",
    "dataset = pd.read_csv('Datos/Jpsimumu_Run2011A.csv')\n",
    "\n",
    "# Crear una estructura de serie (básicamente una lista) y darle el nombre \"inv_mass\".\n",
    "# Guardar la columna \"M\" desde \"dataset\" a la variable \"inv_mass\".\n",
    "inv_mass = dataset['M']"
   ]
  },
  {
   "cell_type": "markdown",
   "metadata": {},
   "source": [
    "<br>\n",
    "Grafiquemos el histograma de las masas invariantes en nuestros datos:"
   ]
  },
  {
   "cell_type": "code",
   "execution_count": 2,
   "metadata": {},
   "outputs": [
    {
     "data": {
      "image/png": "[encoded data removed]",
      "text/plain": [
       "<matplotlib.figure.Figure at 0x5f34cc0>"
      ]
     },
     "metadata": {},
     "output_type": "display_data"
    }
   ],
   "source": [
    "plt.hist(inv_mass, bins=500)\n",
    "plt.show()"
   ]
  },
  {
   "cell_type": "markdown",
   "metadata": {},
   "source": [
    "### Promedio $\\bar x$"
   ]
  },
  {
   "cell_type": "markdown",
   "metadata": {},
   "source": [
    "El promedio puede ser calculado fácilmente con la función _mean( )_ del módulo _numpy_. Calculemos el promedio de la masa invariante:"
   ]
  },
  {
   "cell_type": "code",
   "execution_count": 4,
   "metadata": {},
   "outputs": [
    {
     "name": "stdout",
     "output_type": "stream",
     "text": [
      "3.08437363445\n"
     ]
    }
   ],
   "source": [
    "masa_promedio = np.mean(inv_mass)\n",
    "print(masa_promedio)"
   ]
  },
  {
   "cell_type": "markdown",
   "metadata": {},
   "source": [
    "### Varianza $\\sigma^2$"
   ]
  },
  {
   "cell_type": "markdown",
   "metadata": {},
   "source": [
    "La varianza está determinada por la ecuación:\n",
    "\n",
    "$$\\sigma^2 = \\frac{\\sum_{i=1}^{n}(x_i-\\bar{x})^2}{n}.$$\n",
    "\n",
    "Con Python la varianza puede ser calculada con la función _var( )_ del módulo _numpy_. Hagamos esto:"
   ]
  },
  {
   "cell_type": "code",
   "execution_count": 5,
   "metadata": {},
   "outputs": [
    {
     "name": "stdout",
     "output_type": "stream",
     "text": [
      "0.39216919089\n"
     ]
    }
   ],
   "source": [
    "varianza = np.var(inv_mass)\n",
    "print(varianza)"
   ]
  },
  {
   "cell_type": "markdown",
   "metadata": {},
   "source": [
    "### Desviación estándar $\\sigma$"
   ]
  },
  {
   "cell_type": "markdown",
   "metadata": {},
   "source": [
    "Ya que la desviación estándar es la raíz cuadrada de la varianza, podemos calcular la desviación estándar con la función _sqrt( )_ del módulo _numpy_. La función _sqrt( )_ calcula la raíz cuadrada de un valor."
   ]
  },
  {
   "cell_type": "code",
   "execution_count": 7,
   "metadata": {},
   "outputs": [
    {
     "name": "stdout",
     "output_type": "stream",
     "text": [
      "0.626234134242\n"
     ]
    }
   ],
   "source": [
    "sd = np.sqrt(varianza)\n",
    "print(sd)"
   ]
  },
  {
   "cell_type": "markdown",
   "metadata": {},
   "source": []
  }
 ],
 "metadata": {
  "kernelspec": {
   "display_name": "Python 2",
   "language": "python",
   "name": "python2"
  },
  "language_info": {
   "codemirror_mode": {
    "name": "ipython",
    "version": 2
   },
   "file_extension": ".py",
   "mimetype": "text/x-python",
   "name": "python",
   "nbconvert_exporter": "python",
   "pygments_lexer": "ipython2",
   "version": "2.7.13"
  }
 },
 "nbformat": 4,
 "nbformat_minor": 1
}
