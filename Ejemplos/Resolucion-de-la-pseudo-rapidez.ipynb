{
 "cells": [
  {
   "cell_type": "markdown",
   "metadata": {},
   "source": [
    "### Antecedentes"
   ]
  },
  {
   "cell_type": "markdown",
   "metadata": {},
   "source": [
    "Este cuaderno incluye un ejercicio de ejemplo acerca de los efectos de la pseudo-rapidez en la resolución del detector CMS. El ejercicio consiste de una parte teórica y una parte práctica. "
   ]
  },
  {
   "cell_type": "markdown",
   "metadata": {},
   "source": [
    "# Efecto de la pseudo-rapidez $\\eta$ en la resolución del detector CMS"
   ]
  },
  {
   "cell_type": "markdown",
   "metadata": {},
   "source": [
    "En este ejercicio se introduce el detector CMS (Solenoide compacto de muones: Compact Muon Solenoid) y el concepto de pseudo-rapidez. With the real data collected by CMS detector the effect of the pseudorapidity to the resolution of the CMS detector is observed."
   ]
  },
  {
   "cell_type": "markdown",
   "metadata": {},
   "source": [
    "### Detector CMS"
   ]
  },
  {
   "cell_type": "markdown",
   "metadata": {},
   "source": [
    "En CERN, partículas son aceleradas y colisionan en el LHC (Gran Colisionador de Hadrones: Large Hadron Collider). Con el detector CMS las particulas creadas en estas colisiones pueden ser observadas y medidas. En la imagen abajo se muestra el detector CMS abierto. \n",
    "\n",
    "<img src=\"Imagenes/CMS_avattu.jpg\" alt=\"CMS-ilmaisin avattuna\" style=\"height: 400px\">\n",
    "\n",
    "(Picture: Domenico Salvagnin, https://commons.wikimedia.org/wiki/File:CMS@CERN.jpg)\n",
    "<br>\n",
    "<br>\n",
    "<br>"
   ]
  },
  {
   "cell_type": "markdown",
   "metadata": {},
   "source": [
    "### Pseudo-rapidez"
   ]
  },
  {
   "cell_type": "markdown",
   "metadata": {},
   "source": [
    "In física de partículas experimental $\\eta$ es una coordenada espacial utilizada para describir el ángulo entre la partícula y el haz de partículas. La pseudo-rapidez está determinada por la ecuación:\n",
    "\n",
    "$$ \\eta \\equiv -\\ln(\\tan(\\frac{\\theta}{2})), $$\n",
    "\n",
    "Donde $\\theta$ es el ángulo de la partícula relativo al haz de partículas.\n",
    "\n",
    "La pseudo-rapidez describe entonces el ángulo entre una partícula detectada y el haz de partículas. En la imagen abajo el haz de partículas viaja horizontalmente de izquierda a derecha. Entonces con valores grandes de $\\eta$ una partícula creada en la colisión diferiría sólo un poco de la dirección del haz. Con valores pequeños de $\\eta$ la desviación es mayor.\n",
    "\n",
    "<img src=\"Imagenes/Pseudorapidity_plot.svg\" alt=\"Image of pseudorapidity values\" style=\"height: 200px\">\n",
    "\n",
    "(Image: Wikimedia user Mets501, https://en.wikipedia.org/wiki/Pseudorapidity#/media/File:Pseudorapidity_plot.svg)\n",
    "<br>\n",
    "<br>\n",
    "<br>"
   ]
  },
  {
   "cell_type": "markdown",
   "metadata": {},
   "source": [
    "### El efecto de la pseudo-rapidez en la resolución de la medida"
   ]
  },
  {
   "cell_type": "markdown",
   "metadata": {},
   "source": [
    "Con el detector CMS por ejemplo el momento lineal de las partículas puede ser medido. La pseudo-rapidez $\\eta$ afecta la resolución de la medición del momento lineal. Las partículas que chocan en la parte de en medio del detector (en el barril) pueden ser medidas con más precisión que las partículas que chocan en el final del detector (endcap). \n",
    "\n",
    "La razón de esto es que probablemente las partículas que se han dirigido hacia el final del detector han encontrada más materia (más partículas) que las partículas que chocan en el barril. La interacción de otra materia causará imprecisión en la medición de partículas al final del detector.\n",
    "\n",
    "En la imagen abajo hay un bosquejo de dos partículas creadas en el evento de colisión. Una choca en la mitad del detector y otra al final del detector. También se muestran los valores de la pseudo-rapidez $\\eta$ y los ángulos $\\theta$ de las partículas.\n",
    "\n",
    "<img src=\"Imagenes/Sylinteri.svg\" alt=\"Draft of the CMS detector\" style=\"height: 600px\">"
   ]
  },
  {
   "cell_type": "markdown",
   "metadata": {},
   "source": [
    "### ¡Empecemos!"
   ]
  },
  {
   "cell_type": "markdown",
   "metadata": {},
   "source": [
    "Empezaremos observando como el efecto de la pseudo-rapidez sobre la resolución de la medida puede ser observado con datos reales recolectados por el detector CMS. \n",
    "\n",
    "Utilizaremos los datos recolectados en 2011 [1]. De la base de datos primaria 10851 eventos de colisión donde han habido exactamente dos muones han sido seleccionados en el archivo \"Zmumu_Run2011A_masses.csv\". (La selección se ha realizado con un código que esta disponible libremente en https://github.com/tpmccauley/dimuon-filter.) Las mediciones del momento lineal y la energía de los muones están escritos en el archivo. \n",
    "\n",
    "De los valores medidos del momento lineal y las energías, la masa invariante para los muones para cada eventos es calculada. La masa invariante es un concepto matemático, no una masa física. La masa invariante está determinada por la ecuación:\n",
    "\n",
    "$$ M = \\sqrt{(E_1 + E_2)^2-(\\vec{p_1} + \\vec{p_2})^2}. $$\n",
    "\n",
    "En la ecuación $E_1$ y $E_2$ son las energías de los muones y $\\vec{p_1}$ y $\\vec{p_2}$ el momento lineal de los muones. \n",
    "\n",
    "Si el par de muones viene del decaimiento de un bosón Z, la masa invariante calculada para ese par de muones equivale a la masa física del bosón Z (91.1876 GeV, [Particle Data Group](http://pdg.lbl.gov/2012/listings/rpp2012-list-z-boson.pdf)). Si los dos muones se originan de algún otro proceso (hay muchos procesos diferentes en las colisiones de partículas) entonces la masa invariante calculada es algo distinto.\n",
    "\n",
    "Observemos la masa invariante calculada de diferentes eventos realizando un histograma de ellos. El histograma muestra en cuantos eventos el valor de la masa invariante está en un cierto rango de valores. Con el histograma uno puede ver qué tan cerca de la masa del bosón Z (91.1876 GeV) las diferentes masas invariantes van a ser.  \n",
    "<br>\n",
    "<br>\n",
    "<br>\n",
    "[1]  CMS collaboration (2016). DoubleMu primary dataset in AOD format from RunA of 2011 (/DoubleMu/Run2011A-12Oct2013-v1/AOD). CERN Open Data Portal. DOI: [10.7483/OPENDATA.CMS.RZ34.QR6N](http://doi.org/10.7483/OPENDATA.CMS.RZ34.QR6N)."
   ]
  },
  {
   "cell_type": "markdown",
   "metadata": {},
   "source": [
    "### 1) Seleccionando los eventos"
   ]
  },
  {
   "cell_type": "markdown",
   "metadata": {},
   "source": [
    "<img src=\"Imagenes/Pseudorapidity_plot.svg\" alt=\"Image of pseudorapidity values\" style=\"height: 200px\">\n",
    "\n",
    "Primero seleccionaremos de todos los eventos dos grupos de eventos en los que la pseudo-rapidez de los dos muones ha sido relativamente larga (e.g. $\\eta$ > 1.52) y relativamente corta (e.g. $\\eta$ < 0.45). La selección se realiza con el código abajo. Queremos alrededor de la misma cantidad de eventos en ambos grupos para que pueda realizarse la comparación.\n",
    "\n",
    "Realice la selección ejecutando el código abajo. Puede ejecutar el código haciendo clic en la casilla de código y luego presionando _Ctrl_ + _Enter_. La línea separada por # en el código son comentarios que no afectarán al programa. "
   ]
  },
  {
   "cell_type": "code",
   "execution_count": 2,
   "metadata": {},
   "outputs": [
    {
     "name": "stdout",
     "output_type": "stream",
     "text": [
      "\n",
      "\n",
      "\n",
      "La cantidad de eventos total es = 10851\n",
      "La cantidad de eventos donde la pseudo-rapidez de ambos muones es grande = 615\n",
      "La cantidad de eventos donde la pseudo-rapidez de ambos muones es pequeña = 603\n"
     ]
    }
   ],
   "source": [
    "# Importar todos los módulos necesarios. Pandas es para análisis de datos, numpy es para cálculos científicos\n",
    "# y matplotlib.pyplot es para hacer gráficas. Los módulos son llamados pd, np y plt.\n",
    "import pandas as pd\n",
    "import numpy as np\n",
    "import matplotlib.pyplot as plt\n",
    "\n",
    "# Crear una nueva estructura de marco de datos desde el archivo \"Zmumu_Run2011A_masses.csv\"\n",
    "dataset = pd.read_csv('Datos/Zmumu_Run2011A_masses.csv')\n",
    "\n",
    "# Establecer las condiciones para etas grandes y pequeñas. Estas pueden ser cambiadas, pero hay que tener cuidado\n",
    "# de que alrededor de la misma cantidad de datos se seleccionen para ambos grupos. \n",
    "cond1 = 1.52\n",
    "cond2 = 0.45\n",
    "\n",
    "# Crear dos marcos de datos. Seleccionar eventos de \"etas_grandes\" donde la pseudo-rapidez\n",
    "# de ambos muones es más grande que \"cond1\". Seleccionar eventos \"etas_pequeños\" donde\n",
    "# la pseudo-velocidad de ambos muones es menor que \"cond2\".\n",
    "etas_grandes = dataset[(np.absolute(dataset.eta1) > cond1) & (np.absolute(dataset.eta2) > cond1)]\n",
    "etas_pequenos = dataset[(np.absolute(dataset.eta1) < cond2) & (np.absolute(dataset.eta2) < cond2)]\n",
    "\n",
    "# Mostrar dos líneas vacías para tener un mejor diseño. \n",
    "print('\\n' * 2)\n",
    "\n",
    "print('La cantidad de eventos total es = %d' % len(dataset))\n",
    "print('La cantidad de eventos donde la pseudo-rapidez de ambos muones es grande = %d' %len(etas_grandes))\n",
    "print('La cantidad de eventos donde la pseudo-rapidez de ambos muones es pequeña = %d' %len(etas_pequenos))"
   ]
  },
  {
   "cell_type": "markdown",
   "metadata": {},
   "source": [
    "### 2) Creando histogramas"
   ]
  },
  {
   "cell_type": "markdown",
   "metadata": {},
   "source": [
    "A continuación crearemos histogramas separados de la masa invariante para los eventos con pseudo-rapidez grande y para los eventos con pseudo-rapidez pequeña. Con los histogramas podemos comparar las dos situaciones. "
   ]
  },
  {
   "cell_type": "markdown",
   "metadata": {},
   "source": [
    "### Histograma para eventos con $\\eta$ grande"
   ]
  },
  {
   "cell_type": "markdown",
   "metadata": {},
   "source": [
    "Empecemos con los eventos donde la pseudo-rapidez de ambos muones ha sido grande. Ejecute el código haciendo clic en la casilla del código y luego presionando _Ctrl_ + _Enter_."
   ]
  },
  {
   "cell_type": "code",
   "execution_count": 3,
   "metadata": {},
   "outputs": [
    {
     "data": {
      "image/png": "[encoded data removed]",
      "text/plain": [
       "<matplotlib.figure.Figure at 0x9f171d0>"
      ]
     },
     "metadata": {},
     "output_type": "display_data"
    }
   ],
   "source": [
    "# Guardar la masa invariante a la variable \"inv_mass1\".\n",
    "inv_mass1 = etas_grandes['M']\n",
    "\n",
    "# Jupyter Notebook utiliza \"funciones mágicas\". Con esta función es posible graficar\n",
    "# el histograma directamente en el cuaderno. \n",
    "% matplotlib inline\n",
    "\n",
    "# Crear el histograma desde los datos en la variable \"inv_mass1\". Establecer el rango y número de casillas. \n",
    "plt.hist(inv_mass1, bins=120, range=(60,120))\n",
    "\n",
    "# Establecer el eje y en el rango de 0 a 60.\n",
    "axes = plt.gca()\n",
    "axes.set_ylim([0,60])\n",
    "\n",
    "# Nombrar los ejes y darles un título.\n",
    "plt.xlabel('Masa invariante [GeV]')\n",
    "plt.ylabel('Numero de eventos por casilla')\n",
    "plt.title('Histograma de la masa invariante para los eventos donde la\\n pseudo-rapidez de ambos muones ha sido grande\\n')\n",
    "plt.show()\n"
   ]
  },
  {
   "cell_type": "markdown",
   "metadata": {},
   "source": [
    "### Histograma para los eventos con $\\eta$ pequeño"
   ]
  },
  {
   "cell_type": "markdown",
   "metadata": {},
   "source": [
    "Análogamente a lo que hicimos arriba, grafiquemos el histograma de la masa invariante para los eventos donde la pseudo-rapidez de ambos muones ha sido pequeña."
   ]
  },
  {
   "cell_type": "code",
   "execution_count": 5,
   "metadata": {},
   "outputs": [
    {
     "data": {
      "image/png": "[encoded data removed]",
      "text/plain": [
       "<matplotlib.figure.Figure at 0xafd7c50>"
      ]
     },
     "metadata": {},
     "output_type": "display_data"
    }
   ],
   "source": [
    "# Guardar la masa invariante en la variable \"inv_mass2\".\n",
    "inv_mass2 = etas_pequenos['M']\n",
    "\n",
    "# Jupyter Notebook utiliza \"funciones mágicas\". Con esta función es posible graficar\n",
    "# el histograma directamente en el cuaderno. \n",
    "% matplotlib inline\n",
    "\n",
    "# Crear el histograma desde los datos en la variable \"inv_mass1\". Establecer las casillas y el rango. \n",
    "plt.hist(inv_mass2, bins=120, range=(60,120))\n",
    "\n",
    "# Establecer el rango del eje y de 0 a 60.\n",
    "axes = plt.gca()\n",
    "axes.set_ylim([0,60])\n",
    "\n",
    "# Nombrar los ejes y darles un título. \n",
    "plt.xlabel('Masa invariante [GeV]')\n",
    "plt.ylabel('Numero de eventos por casilla')\n",
    "plt.title('Histograma de la masa invariante para los eventos donde la \\n pseudo-rapidez de ambos muones ha sido corta\\n')\n",
    "plt.show()\n"
   ]
  },
  {
   "cell_type": "markdown",
   "metadata": {},
   "source": [
    "### 3) Ejercicio"
   ]
  },
  {
   "cell_type": "markdown",
   "metadata": {},
   "source": [
    "Ahora hemos creado desde datos reales del CMS dos histogramas de masa invariante. Con la ayuda de los histogramas y la parte teórica del cuaderno piense en las preguntas siguientes:\n",
    "\n",
    "__¿De qué forma puede ver el efecto de la pseudo-rapidez en la resolución de medida del detector CMS?__\n",
    "\n",
    "__¿Sus resultados muestran lo mismo que la teoría predice?__\n",
    "\n",
    "Después de haber contestado las preguntas puede tratar de cambiar las condiciones para pseudo-rapideces grandes y pequeñas en la primera casilla de código. Las condiciones se llaman _cond1_ y _cond2_. Tenga cuidado de escoger las condiciones de manera que haya aproximadamente el mismo número de eventos en cada grupo. ¿Cómo los afectan los cambios al número de eventos?, ¿y al histograma?"
   ]
  },
  {
   "cell_type": "code",
   "execution_count": null,
   "metadata": {
    "collapsed": true
   },
   "outputs": [],
   "source": []
  }
 ],
 "metadata": {
  "kernelspec": {
   "display_name": "Python 2",
   "language": "python",
   "name": "python2"
  },
  "language_info": {
   "codemirror_mode": {
    "name": "ipython",
    "version": 2
   },
   "file_extension": ".py",
   "mimetype": "text/x-python",
   "name": "python",
   "nbconvert_exporter": "python",
   "pygments_lexer": "ipython2",
   "version": "2.7.13"
  }
 },
 "nbformat": 4,
 "nbformat_minor": 1
}
